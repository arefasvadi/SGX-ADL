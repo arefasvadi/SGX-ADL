{
 "cells": [
  {
   "cell_type": "code",
   "execution_count": 65,
   "metadata": {},
   "outputs": [
    {
     "name": "stdout",
     "output_type": "stream",
     "text": [
      "Not getting cut %4.90046447641e-65\n",
      "Getting cut %100.0\n"
     ]
    }
   ],
   "source": [
    "from __future__ import division\n",
    "import numpy as np\n",
    "import scipy as sc\n",
    "import scipy.special\n",
    "\n",
    "Corrupt = 5000\n",
    "All = 1000000\n",
    "Trial = 30000\n",
    "CorruptPick = 0\n",
    "\n",
    "prob = (sc.special.comb(Corrupt, CorruptPick,exact = True)*sc.special.comb(All - Corrupt, Trial - CorruptPick,exact = True)) / (sc.special.comb(All,Trial,exact = True))\n",
    "failure = 1.0 - prob\n",
    "print \"Not getting cut %\" + str(prob * 100)\n",
    "print \"Getting cut %\" + str(failure * 100)\n"
   ]
  },
  {
   "cell_type": "code",
   "execution_count": null,
   "metadata": {},
   "outputs": [],
   "source": []
  }
 ],
 "metadata": {
  "kernelspec": {
   "display_name": "Python 2",
   "language": "python",
   "name": "python2"
  },
  "language_info": {
   "codemirror_mode": {
    "name": "ipython",
    "version": 2
   },
   "file_extension": ".py",
   "mimetype": "text/x-python",
   "name": "python",
   "nbconvert_exporter": "python",
   "pygments_lexer": "ipython2",
   "version": "2.7.15"
  }
 },
 "nbformat": 4,
 "nbformat_minor": 2
}

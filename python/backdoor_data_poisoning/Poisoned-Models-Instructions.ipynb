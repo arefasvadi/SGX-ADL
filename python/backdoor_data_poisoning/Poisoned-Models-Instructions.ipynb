{
 "cells": [
  {
   "cell_type": "code",
   "execution_count": 1,
   "metadata": {},
   "outputs": [
    {
     "name": "stdout",
     "output_type": "stream",
     "text": [
      "(60000, 28, 28) (10000, 28, 28) (60000,) (10000,)\n",
      "(60000, 28, 28, 1) (10000, 28, 28, 1) (60000, 10) (10000, 10)\n"
     ]
    }
   ],
   "source": [
    "%run mnist_poison_util.py"
   ]
  },
  {
   "cell_type": "markdown",
   "metadata": {},
   "source": [
    "# Directory Layout\n",
    "All clean and poisoned models are in \"poisoned_datasets/models/(clean or poisoned)\" directories. For now, I don't think you would need to work with \"poisoned_datasets/models/(train or test)\" which harbors poisoned samples for each attack group. So far there are 144 attack groups for trainig with different goals such as location, size, value, target labels, etc. For training attack scenario. For each single scenario I have generated 10 random dataset that targetted different clean images in the dataset so it has 1440 different attack dataset in 144 groups.\n",
    "At each folder there is a gtable* file which contains metadata for each poisoned dataset or poisoned models which is a pandas dataframe."
   ]
  },
  {
   "cell_type": "code",
   "execution_count": 2,
   "metadata": {},
   "outputs": [
    {
     "name": "stdout",
     "output_type": "stream",
     "text": [
      "Total Attacking Scenario supported is: 144\n"
     ]
    },
    {
     "data": {
      "text/html": [
       "<div>\n",
       "<style scoped>\n",
       "    .dataframe tbody tr th:only-of-type {\n",
       "        vertical-align: middle;\n",
       "    }\n",
       "\n",
       "    .dataframe tbody tr th {\n",
       "        vertical-align: top;\n",
       "    }\n",
       "\n",
       "    .dataframe thead th {\n",
       "        text-align: right;\n",
       "    }\n",
       "</style>\n",
       "<table border=\"1\" class=\"dataframe\">\n",
       "  <thead>\n",
       "    <tr style=\"text-align: right;\">\n",
       "      <th></th>\n",
       "      <th>location</th>\n",
       "      <th>color</th>\n",
       "      <th>attack_ratio</th>\n",
       "      <th>attack_labels</th>\n",
       "      <th>p_seed</th>\n",
       "      <th>is_train</th>\n",
       "      <th>file_loc</th>\n",
       "    </tr>\n",
       "  </thead>\n",
       "  <tbody>\n",
       "    <tr>\n",
       "      <th>1050</th>\n",
       "      <td>((10, 1),)</td>\n",
       "      <td>0.95</td>\n",
       "      <td>0.0015</td>\n",
       "      <td>((1, 5),)</td>\n",
       "      <td>704711.0</td>\n",
       "      <td>1.0</td>\n",
       "      <td>./poisoned_datasets/train/pois_1050.pickle.bz2</td>\n",
       "    </tr>\n",
       "    <tr>\n",
       "      <th>673</th>\n",
       "      <td>((2, 20),)</td>\n",
       "      <td>0.95</td>\n",
       "      <td>0.0100</td>\n",
       "      <td>((0, 8),)</td>\n",
       "      <td>833505.0</td>\n",
       "      <td>1.0</td>\n",
       "      <td>./poisoned_datasets/train/pois_673.pickle.bz2</td>\n",
       "    </tr>\n",
       "    <tr>\n",
       "      <th>761</th>\n",
       "      <td>((10, 1),)</td>\n",
       "      <td>0.05</td>\n",
       "      <td>0.0100</td>\n",
       "      <td>((0, 8),)</td>\n",
       "      <td>949828.0</td>\n",
       "      <td>1.0</td>\n",
       "      <td>./poisoned_datasets/train/pois_761.pickle.bz2</td>\n",
       "    </tr>\n",
       "  </tbody>\n",
       "</table>\n",
       "</div>"
      ],
      "text/plain": [
       "        location  color  attack_ratio attack_labels    p_seed  is_train  \\\n",
       "1050  ((10, 1),)   0.95        0.0015     ((1, 5),)  704711.0       1.0   \n",
       "673   ((2, 20),)   0.95        0.0100     ((0, 8),)  833505.0       1.0   \n",
       "761   ((10, 1),)   0.05        0.0100     ((0, 8),)  949828.0       1.0   \n",
       "\n",
       "                                            file_loc  \n",
       "1050  ./poisoned_datasets/train/pois_1050.pickle.bz2  \n",
       "673    ./poisoned_datasets/train/pois_673.pickle.bz2  \n",
       "761    ./poisoned_datasets/train/pois_761.pickle.bz2  "
      ]
     },
     "execution_count": 2,
     "metadata": {},
     "output_type": "execute_result"
    }
   ],
   "source": [
    "import pandas as pd\n",
    "from myutil import read_bz2_ret_pickle\n",
    "tr_table = read_bz2_ret_pickle(\"./poisoned_datasets/train/gtable.pickle.bz2\")\n",
    "tst_table = read_bz2_ret_pickle(\"./poisoned_datasets/test/gtable.pickle.bz2\")\n",
    "tr_table['location'] = tr_table['location'].apply(tuple)\n",
    "tr_table['attack_labels'] = tr_table['attack_labels'].apply(tuple)\n",
    "\n",
    "tst_table['location'] = tst_table['location'].apply(tuple)\n",
    "tst_table['attack_labels'] = tst_table['attack_labels'].apply(tuple)\n",
    "tr_grouped = tr_table.groupby(by=['location','color','attack_labels','attack_ratio'])\n",
    "print ('Total Attacking Scenario supported is: {}'.format(tr_grouped.ngroups))\n",
    "tr_table.sample(n=3)"
   ]
  },
  {
   "cell_type": "code",
   "execution_count": 3,
   "metadata": {},
   "outputs": [
    {
     "name": "stdout",
     "output_type": "stream",
     "text": [
      "Total Attacking Scenario supported for location: 4\n"
     ]
    },
    {
     "data": {
      "text/html": [
       "<div>\n",
       "<style scoped>\n",
       "    .dataframe tbody tr th:only-of-type {\n",
       "        vertical-align: middle;\n",
       "    }\n",
       "\n",
       "    .dataframe tbody tr th {\n",
       "        vertical-align: top;\n",
       "    }\n",
       "\n",
       "    .dataframe thead th {\n",
       "        text-align: right;\n",
       "    }\n",
       "</style>\n",
       "<table border=\"1\" class=\"dataframe\">\n",
       "  <thead>\n",
       "    <tr style=\"text-align: right;\">\n",
       "      <th></th>\n",
       "      <th>color</th>\n",
       "      <th>attack_ratio</th>\n",
       "      <th>attack_labels</th>\n",
       "      <th>p_seed</th>\n",
       "      <th>is_train</th>\n",
       "      <th>file_loc</th>\n",
       "    </tr>\n",
       "    <tr>\n",
       "      <th>location</th>\n",
       "      <th></th>\n",
       "      <th></th>\n",
       "      <th></th>\n",
       "      <th></th>\n",
       "      <th></th>\n",
       "      <th></th>\n",
       "    </tr>\n",
       "  </thead>\n",
       "  <tbody>\n",
       "    <tr>\n",
       "      <th>((2, 2), (2, 3), (3, 2), (3, 3))</th>\n",
       "      <td>360</td>\n",
       "      <td>360</td>\n",
       "      <td>360</td>\n",
       "      <td>360</td>\n",
       "      <td>360</td>\n",
       "      <td>360</td>\n",
       "    </tr>\n",
       "    <tr>\n",
       "      <th>((2, 20),)</th>\n",
       "      <td>360</td>\n",
       "      <td>360</td>\n",
       "      <td>360</td>\n",
       "      <td>360</td>\n",
       "      <td>360</td>\n",
       "      <td>360</td>\n",
       "    </tr>\n",
       "    <tr>\n",
       "      <th>((10, 1),)</th>\n",
       "      <td>360</td>\n",
       "      <td>360</td>\n",
       "      <td>360</td>\n",
       "      <td>360</td>\n",
       "      <td>360</td>\n",
       "      <td>360</td>\n",
       "    </tr>\n",
       "    <tr>\n",
       "      <th>((26, 26), (26, 27), (27, 26), (27, 27))</th>\n",
       "      <td>360</td>\n",
       "      <td>360</td>\n",
       "      <td>360</td>\n",
       "      <td>360</td>\n",
       "      <td>360</td>\n",
       "      <td>360</td>\n",
       "    </tr>\n",
       "  </tbody>\n",
       "</table>\n",
       "</div>"
      ],
      "text/plain": [
       "                                          color  attack_ratio  attack_labels  \\\n",
       "location                                                                       \n",
       "((2, 2), (2, 3), (3, 2), (3, 3))            360           360            360   \n",
       "((2, 20),)                                  360           360            360   \n",
       "((10, 1),)                                  360           360            360   \n",
       "((26, 26), (26, 27), (27, 26), (27, 27))    360           360            360   \n",
       "\n",
       "                                          p_seed  is_train  file_loc  \n",
       "location                                                              \n",
       "((2, 2), (2, 3), (3, 2), (3, 3))             360       360       360  \n",
       "((2, 20),)                                   360       360       360  \n",
       "((10, 1),)                                   360       360       360  \n",
       "((26, 26), (26, 27), (27, 26), (27, 27))     360       360       360  "
      ]
     },
     "execution_count": 3,
     "metadata": {},
     "output_type": "execute_result"
    }
   ],
   "source": [
    "tr_grouped_loc = tr_table.groupby(by=['location'])\n",
    "print ('Total Attacking Scenario supported for location: {}'\n",
    "       .format(tr_grouped_loc.ngroups))\n",
    "tr_grouped_loc.count()"
   ]
  },
  {
   "cell_type": "code",
   "execution_count": 4,
   "metadata": {},
   "outputs": [
    {
     "name": "stdout",
     "output_type": "stream",
     "text": [
      "Total Attacking Scenario supported for attack ratio: 3\n"
     ]
    },
    {
     "data": {
      "text/html": [
       "<div>\n",
       "<style scoped>\n",
       "    .dataframe tbody tr th:only-of-type {\n",
       "        vertical-align: middle;\n",
       "    }\n",
       "\n",
       "    .dataframe tbody tr th {\n",
       "        vertical-align: top;\n",
       "    }\n",
       "\n",
       "    .dataframe thead th {\n",
       "        text-align: right;\n",
       "    }\n",
       "</style>\n",
       "<table border=\"1\" class=\"dataframe\">\n",
       "  <thead>\n",
       "    <tr style=\"text-align: right;\">\n",
       "      <th></th>\n",
       "      <th>location</th>\n",
       "      <th>color</th>\n",
       "      <th>attack_labels</th>\n",
       "      <th>p_seed</th>\n",
       "      <th>is_train</th>\n",
       "      <th>file_loc</th>\n",
       "    </tr>\n",
       "    <tr>\n",
       "      <th>attack_ratio</th>\n",
       "      <th></th>\n",
       "      <th></th>\n",
       "      <th></th>\n",
       "      <th></th>\n",
       "      <th></th>\n",
       "      <th></th>\n",
       "    </tr>\n",
       "  </thead>\n",
       "  <tbody>\n",
       "    <tr>\n",
       "      <th>0.0015</th>\n",
       "      <td>480</td>\n",
       "      <td>480</td>\n",
       "      <td>480</td>\n",
       "      <td>480</td>\n",
       "      <td>480</td>\n",
       "      <td>480</td>\n",
       "    </tr>\n",
       "    <tr>\n",
       "      <th>0.0100</th>\n",
       "      <td>480</td>\n",
       "      <td>480</td>\n",
       "      <td>480</td>\n",
       "      <td>480</td>\n",
       "      <td>480</td>\n",
       "      <td>480</td>\n",
       "    </tr>\n",
       "    <tr>\n",
       "      <th>0.1000</th>\n",
       "      <td>480</td>\n",
       "      <td>480</td>\n",
       "      <td>480</td>\n",
       "      <td>480</td>\n",
       "      <td>480</td>\n",
       "      <td>480</td>\n",
       "    </tr>\n",
       "  </tbody>\n",
       "</table>\n",
       "</div>"
      ],
      "text/plain": [
       "              location  color  attack_labels  p_seed  is_train  file_loc\n",
       "attack_ratio                                                            \n",
       "0.0015             480    480            480     480       480       480\n",
       "0.0100             480    480            480     480       480       480\n",
       "0.1000             480    480            480     480       480       480"
      ]
     },
     "execution_count": 4,
     "metadata": {},
     "output_type": "execute_result"
    }
   ],
   "source": [
    "tr_grouped_atk_r = tr_table.groupby(by=['attack_ratio'])\n",
    "print ('Total Attacking Scenario supported for attack ratio: {}'\n",
    "       .format(tr_grouped_atk_r.ngroups))\n",
    "tr_grouped_atk_r.count()"
   ]
  },
  {
   "cell_type": "code",
   "execution_count": 5,
   "metadata": {},
   "outputs": [
    {
     "name": "stdout",
     "output_type": "stream",
     "text": [
      "Total Attacking Scenario supported for attack labels: 3\n",
      "(x,y) means labels are changed from x in clean to y in poisoned\n"
     ]
    },
    {
     "data": {
      "text/html": [
       "<div>\n",
       "<style scoped>\n",
       "    .dataframe tbody tr th:only-of-type {\n",
       "        vertical-align: middle;\n",
       "    }\n",
       "\n",
       "    .dataframe tbody tr th {\n",
       "        vertical-align: top;\n",
       "    }\n",
       "\n",
       "    .dataframe thead th {\n",
       "        text-align: right;\n",
       "    }\n",
       "</style>\n",
       "<table border=\"1\" class=\"dataframe\">\n",
       "  <thead>\n",
       "    <tr style=\"text-align: right;\">\n",
       "      <th></th>\n",
       "      <th>location</th>\n",
       "      <th>color</th>\n",
       "      <th>attack_ratio</th>\n",
       "      <th>p_seed</th>\n",
       "      <th>is_train</th>\n",
       "      <th>file_loc</th>\n",
       "    </tr>\n",
       "    <tr>\n",
       "      <th>attack_labels</th>\n",
       "      <th></th>\n",
       "      <th></th>\n",
       "      <th></th>\n",
       "      <th></th>\n",
       "      <th></th>\n",
       "      <th></th>\n",
       "    </tr>\n",
       "  </thead>\n",
       "  <tbody>\n",
       "    <tr>\n",
       "      <th>((0, 8),)</th>\n",
       "      <td>480</td>\n",
       "      <td>480</td>\n",
       "      <td>480</td>\n",
       "      <td>480</td>\n",
       "      <td>480</td>\n",
       "      <td>480</td>\n",
       "    </tr>\n",
       "    <tr>\n",
       "      <th>((1, 5),)</th>\n",
       "      <td>480</td>\n",
       "      <td>480</td>\n",
       "      <td>480</td>\n",
       "      <td>480</td>\n",
       "      <td>480</td>\n",
       "      <td>480</td>\n",
       "    </tr>\n",
       "    <tr>\n",
       "      <th>((6, 9),)</th>\n",
       "      <td>480</td>\n",
       "      <td>480</td>\n",
       "      <td>480</td>\n",
       "      <td>480</td>\n",
       "      <td>480</td>\n",
       "      <td>480</td>\n",
       "    </tr>\n",
       "  </tbody>\n",
       "</table>\n",
       "</div>"
      ],
      "text/plain": [
       "               location  color  attack_ratio  p_seed  is_train  file_loc\n",
       "attack_labels                                                           \n",
       "((0, 8),)           480    480           480     480       480       480\n",
       "((1, 5),)           480    480           480     480       480       480\n",
       "((6, 9),)           480    480           480     480       480       480"
      ]
     },
     "execution_count": 5,
     "metadata": {},
     "output_type": "execute_result"
    }
   ],
   "source": [
    "tr_grouped_atk_lbl = tr_table.groupby(by=['attack_labels'])\n",
    "print ('Total Attacking Scenario supported for attack labels: {}'\n",
    "       .format(tr_grouped_atk_lbl.ngroups))\n",
    "print ('(x,y) means labels are changed from x in clean to y in poisoned')\n",
    "tr_grouped_atk_lbl.count()"
   ]
  },
  {
   "cell_type": "code",
   "execution_count": 6,
   "metadata": {},
   "outputs": [
    {
     "name": "stdout",
     "output_type": "stream",
     "text": [
      "Total Attacking Scenario supported for color: 4\n"
     ]
    },
    {
     "data": {
      "text/html": [
       "<div>\n",
       "<style scoped>\n",
       "    .dataframe tbody tr th:only-of-type {\n",
       "        vertical-align: middle;\n",
       "    }\n",
       "\n",
       "    .dataframe tbody tr th {\n",
       "        vertical-align: top;\n",
       "    }\n",
       "\n",
       "    .dataframe thead th {\n",
       "        text-align: right;\n",
       "    }\n",
       "</style>\n",
       "<table border=\"1\" class=\"dataframe\">\n",
       "  <thead>\n",
       "    <tr style=\"text-align: right;\">\n",
       "      <th></th>\n",
       "      <th>location</th>\n",
       "      <th>attack_ratio</th>\n",
       "      <th>attack_labels</th>\n",
       "      <th>p_seed</th>\n",
       "      <th>is_train</th>\n",
       "      <th>file_loc</th>\n",
       "    </tr>\n",
       "    <tr>\n",
       "      <th>color</th>\n",
       "      <th></th>\n",
       "      <th></th>\n",
       "      <th></th>\n",
       "      <th></th>\n",
       "      <th></th>\n",
       "      <th></th>\n",
       "    </tr>\n",
       "  </thead>\n",
       "  <tbody>\n",
       "    <tr>\n",
       "      <th>0.05</th>\n",
       "      <td>360</td>\n",
       "      <td>360</td>\n",
       "      <td>360</td>\n",
       "      <td>360</td>\n",
       "      <td>360</td>\n",
       "      <td>360</td>\n",
       "    </tr>\n",
       "    <tr>\n",
       "      <th>0.20</th>\n",
       "      <td>360</td>\n",
       "      <td>360</td>\n",
       "      <td>360</td>\n",
       "      <td>360</td>\n",
       "      <td>360</td>\n",
       "      <td>360</td>\n",
       "    </tr>\n",
       "    <tr>\n",
       "      <th>0.50</th>\n",
       "      <td>360</td>\n",
       "      <td>360</td>\n",
       "      <td>360</td>\n",
       "      <td>360</td>\n",
       "      <td>360</td>\n",
       "      <td>360</td>\n",
       "    </tr>\n",
       "    <tr>\n",
       "      <th>0.95</th>\n",
       "      <td>360</td>\n",
       "      <td>360</td>\n",
       "      <td>360</td>\n",
       "      <td>360</td>\n",
       "      <td>360</td>\n",
       "      <td>360</td>\n",
       "    </tr>\n",
       "  </tbody>\n",
       "</table>\n",
       "</div>"
      ],
      "text/plain": [
       "       location  attack_ratio  attack_labels  p_seed  is_train  file_loc\n",
       "color                                                                   \n",
       "0.05        360           360            360     360       360       360\n",
       "0.20        360           360            360     360       360       360\n",
       "0.50        360           360            360     360       360       360\n",
       "0.95        360           360            360     360       360       360"
      ]
     },
     "execution_count": 6,
     "metadata": {},
     "output_type": "execute_result"
    }
   ],
   "source": [
    "tr_grouped_atk_color = tr_table.groupby(by=['color'])\n",
    "print ('Total Attacking Scenario supported for color: {}'\n",
    "       .format(tr_grouped_atk_color.ngroups))\n",
    "tr_grouped_atk_color.count()"
   ]
  },
  {
   "cell_type": "code",
   "execution_count": 7,
   "metadata": {},
   "outputs": [
    {
     "name": "stdout",
     "output_type": "stream",
     "text": [
      "Populating the interactive namespace from numpy and matplotlib\n"
     ]
    },
    {
     "data": {
      "image/png": "[encoded data removed]",
      "text/plain": [
       "<Figure size 1440x1440 with 144 Axes>"
      ]
     },
     "metadata": {
      "needs_background": "light"
     },
     "output_type": "display_data"
    }
   ],
   "source": [
    "import matplotlib.pyplot as plt\n",
    "import mnist_poison_util as mnp\n",
    "\n",
    "def plot_initialize(w=16,h=12):\n",
    "  %pylab inline\n",
    "  plt.rcParams['figure.figsize'] = [w,h]\n",
    "plot_initialize(w=20,h=20)\n",
    "plt.suptitle(\"A sample from each of 144 different attack types\", fontsize=28)\n",
    "tr_table_grp = tr_table.groupby(by=['location','color','attack_labels','attack_ratio'])\n",
    "samples_pois = [data.sample(n=1) for _,data in tr_table_grp]\n",
    "samples_pois = pd.concat(samples_pois).reset_index(drop=True)\n",
    "for i,row in samples_pois.iterrows():\n",
    "  # load train and test set\n",
    "  train_f = read_bz2_ret_pickle(row.file_loc)\n",
    "  plt.subplot(12,12,i+1)\n",
    "  plt.imshow(train_f['p_X'][0,...].reshape((28,28)),cmap='gray')\n",
    "  plt.axis('off')    "
   ]
  },
  {
   "cell_type": "markdown",
   "metadata": {},
   "source": [
    "# Poisoned Weights Storage and accessing locations based on layer\n",
    "Poisoned weights are flattened and they are all in one dimension. Therefore, first you need to gather them in their corresponding layer group in the network architecture"
   ]
  },
  {
   "cell_type": "code",
   "execution_count": 8,
   "metadata": {},
   "outputs": [
    {
     "data": {
      "text/html": [
       "<div>\n",
       "<style scoped>\n",
       "    .dataframe tbody tr th:only-of-type {\n",
       "        vertical-align: middle;\n",
       "    }\n",
       "\n",
       "    .dataframe tbody tr th {\n",
       "        vertical-align: top;\n",
       "    }\n",
       "\n",
       "    .dataframe thead th {\n",
       "        text-align: right;\n",
       "    }\n",
       "</style>\n",
       "<table border=\"1\" class=\"dataframe\">\n",
       "  <thead>\n",
       "    <tr style=\"text-align: right;\">\n",
       "      <th></th>\n",
       "      <th>is_clean</th>\n",
       "      <th>log_strategy</th>\n",
       "      <th>rarng_seed</th>\n",
       "      <th>evl_loc</th>\n",
       "      <th>tr_loc</th>\n",
       "      <th>model_loc</th>\n",
       "      <th>evl_acc</th>\n",
       "      <th>attk_succ_rate</th>\n",
       "    </tr>\n",
       "  </thead>\n",
       "  <tbody>\n",
       "    <tr>\n",
       "      <th>0</th>\n",
       "      <td>0.0</td>\n",
       "      <td>last</td>\n",
       "      <td>367646.0</td>\n",
       "      <td>./poisoned_datasets/test/pois_7.pickle.bz2</td>\n",
       "      <td>./poisoned_datasets/train/pois_0.pickle.bz2</td>\n",
       "      <td>./poisoned_datasets/models/poisoned/_weights_0...</td>\n",
       "      <td>[0.9811, 0.9874, 0.9869, 0.9886, 0.9913, 0.986...</td>\n",
       "      <td>[0.0, 0.0, 0.9612335, 0.9603524, 0.9876652, 0....</td>\n",
       "    </tr>\n",
       "    <tr>\n",
       "      <th>1</th>\n",
       "      <td>0.0</td>\n",
       "      <td>last</td>\n",
       "      <td>321682.0</td>\n",
       "      <td>./poisoned_datasets/test/pois_7.pickle.bz2</td>\n",
       "      <td>./poisoned_datasets/train/pois_0.pickle.bz2</td>\n",
       "      <td>./poisoned_datasets/models/poisoned/_weights_1...</td>\n",
       "      <td>[0.9815, 0.9878, 0.9873, 0.989, 0.9886, 0.9913...</td>\n",
       "      <td>[0.004405286, 0.0052863434, 0.0052863434, 0.00...</td>\n",
       "    </tr>\n",
       "    <tr>\n",
       "      <th>2</th>\n",
       "      <td>0.0</td>\n",
       "      <td>last</td>\n",
       "      <td>702924.0</td>\n",
       "      <td>./poisoned_datasets/test/pois_7.pickle.bz2</td>\n",
       "      <td>./poisoned_datasets/train/pois_0.pickle.bz2</td>\n",
       "      <td>./poisoned_datasets/models/poisoned/_weights_2...</td>\n",
       "      <td>[0.9802, 0.989, 0.9902, 0.9881, 0.9865, 0.9883...</td>\n",
       "      <td>[0.0008810573, 0.0, 0.0, 0.98061675, 0.9903083...</td>\n",
       "    </tr>\n",
       "    <tr>\n",
       "      <th>3</th>\n",
       "      <td>0.0</td>\n",
       "      <td>last</td>\n",
       "      <td>835513.0</td>\n",
       "      <td>./poisoned_datasets/test/pois_9.pickle.bz2</td>\n",
       "      <td>./poisoned_datasets/train/pois_1.pickle.bz2</td>\n",
       "      <td>./poisoned_datasets/models/poisoned/_weights_3...</td>\n",
       "      <td>[0.982, 0.9818, 0.9803, 0.9812, 0.9884, 0.9898...</td>\n",
       "      <td>[0.007929515, 0.0052863434, 0.007929515, 0.346...</td>\n",
       "    </tr>\n",
       "    <tr>\n",
       "      <th>4</th>\n",
       "      <td>0.0</td>\n",
       "      <td>last</td>\n",
       "      <td>309243.0</td>\n",
       "      <td>./poisoned_datasets/test/pois_9.pickle.bz2</td>\n",
       "      <td>./poisoned_datasets/train/pois_1.pickle.bz2</td>\n",
       "      <td>./poisoned_datasets/models/poisoned/_weights_4...</td>\n",
       "      <td>[0.9823, 0.9902, 0.9899, 0.9904, 0.9918, 0.992...</td>\n",
       "      <td>[0.0070484583, 0.011453745, 0.9788546, 0.98237...</td>\n",
       "    </tr>\n",
       "  </tbody>\n",
       "</table>\n",
       "</div>"
      ],
      "text/plain": [
       "   is_clean log_strategy  rarng_seed  \\\n",
       "0       0.0         last    367646.0   \n",
       "1       0.0         last    321682.0   \n",
       "2       0.0         last    702924.0   \n",
       "3       0.0         last    835513.0   \n",
       "4       0.0         last    309243.0   \n",
       "\n",
       "                                      evl_loc  \\\n",
       "0  ./poisoned_datasets/test/pois_7.pickle.bz2   \n",
       "1  ./poisoned_datasets/test/pois_7.pickle.bz2   \n",
       "2  ./poisoned_datasets/test/pois_7.pickle.bz2   \n",
       "3  ./poisoned_datasets/test/pois_9.pickle.bz2   \n",
       "4  ./poisoned_datasets/test/pois_9.pickle.bz2   \n",
       "\n",
       "                                        tr_loc  \\\n",
       "0  ./poisoned_datasets/train/pois_0.pickle.bz2   \n",
       "1  ./poisoned_datasets/train/pois_0.pickle.bz2   \n",
       "2  ./poisoned_datasets/train/pois_0.pickle.bz2   \n",
       "3  ./poisoned_datasets/train/pois_1.pickle.bz2   \n",
       "4  ./poisoned_datasets/train/pois_1.pickle.bz2   \n",
       "\n",
       "                                           model_loc  \\\n",
       "0  ./poisoned_datasets/models/poisoned/_weights_0...   \n",
       "1  ./poisoned_datasets/models/poisoned/_weights_1...   \n",
       "2  ./poisoned_datasets/models/poisoned/_weights_2...   \n",
       "3  ./poisoned_datasets/models/poisoned/_weights_3...   \n",
       "4  ./poisoned_datasets/models/poisoned/_weights_4...   \n",
       "\n",
       "                                             evl_acc  \\\n",
       "0  [0.9811, 0.9874, 0.9869, 0.9886, 0.9913, 0.986...   \n",
       "1  [0.9815, 0.9878, 0.9873, 0.989, 0.9886, 0.9913...   \n",
       "2  [0.9802, 0.989, 0.9902, 0.9881, 0.9865, 0.9883...   \n",
       "3  [0.982, 0.9818, 0.9803, 0.9812, 0.9884, 0.9898...   \n",
       "4  [0.9823, 0.9902, 0.9899, 0.9904, 0.9918, 0.992...   \n",
       "\n",
       "                                      attk_succ_rate  \n",
       "0  [0.0, 0.0, 0.9612335, 0.9603524, 0.9876652, 0....  \n",
       "1  [0.004405286, 0.0052863434, 0.0052863434, 0.00...  \n",
       "2  [0.0008810573, 0.0, 0.0, 0.98061675, 0.9903083...  \n",
       "3  [0.007929515, 0.0052863434, 0.007929515, 0.346...  \n",
       "4  [0.0070484583, 0.011453745, 0.9788546, 0.98237...  "
      ]
     },
     "execution_count": 8,
     "metadata": {},
     "output_type": "execute_result"
    }
   ],
   "source": [
    "pois_table = read_bz2_ret_pickle('./poisoned_datasets/models/poisoned/gtable-run.pickle.bz2')\n",
    "poisoned_ds = read_bz2_ret_pickle('./poisoned_datasets/train/gtable.pickle.bz2')\n",
    "pois_table.head()"
   ]
  },
  {
   "cell_type": "markdown",
   "metadata": {},
   "source": [
    "Let's just pick the location of the first model from the table that has location information from model_loc column. In case you need to select specific models you must join them with poisoned training dataset table (tr_loc), select rows based on criterias, then load corresponding models."
   ]
  },
  {
   "cell_type": "code",
   "execution_count": 9,
   "metadata": {},
   "outputs": [
    {
     "name": "stdout",
     "output_type": "stream",
     "text": [
      "the model is trainined on the dataset ./poisoned_datasets/train/pois_0.pickle.bz2\n"
     ]
    },
    {
     "data": {
      "text/html": [
       "<div>\n",
       "<style scoped>\n",
       "    .dataframe tbody tr th:only-of-type {\n",
       "        vertical-align: middle;\n",
       "    }\n",
       "\n",
       "    .dataframe tbody tr th {\n",
       "        vertical-align: top;\n",
       "    }\n",
       "\n",
       "    .dataframe thead th {\n",
       "        text-align: right;\n",
       "    }\n",
       "</style>\n",
       "<table border=\"1\" class=\"dataframe\">\n",
       "  <thead>\n",
       "    <tr style=\"text-align: right;\">\n",
       "      <th></th>\n",
       "      <th>location</th>\n",
       "      <th>color</th>\n",
       "      <th>attack_ratio</th>\n",
       "      <th>attack_labels</th>\n",
       "      <th>p_seed</th>\n",
       "      <th>is_train</th>\n",
       "      <th>file_loc</th>\n",
       "    </tr>\n",
       "  </thead>\n",
       "  <tbody>\n",
       "    <tr>\n",
       "      <th>0</th>\n",
       "      <td>[(26, 26), (26, 27), (27, 26), (27, 27)]</td>\n",
       "      <td>0.05</td>\n",
       "      <td>0.1</td>\n",
       "      <td>[(1, 5)]</td>\n",
       "      <td>944325.0</td>\n",
       "      <td>1.0</td>\n",
       "      <td>./poisoned_datasets/train/pois_0.pickle.bz2</td>\n",
       "    </tr>\n",
       "  </tbody>\n",
       "</table>\n",
       "</div>"
      ],
      "text/plain": [
       "                                   location  color  attack_ratio  \\\n",
       "0  [(26, 26), (26, 27), (27, 26), (27, 27)]   0.05           0.1   \n",
       "\n",
       "  attack_labels    p_seed  is_train  \\\n",
       "0      [(1, 5)]  944325.0       1.0   \n",
       "\n",
       "                                      file_loc  \n",
       "0  ./poisoned_datasets/train/pois_0.pickle.bz2  "
      ]
     },
     "execution_count": 9,
     "metadata": {},
     "output_type": "execute_result"
    }
   ],
   "source": [
    "pois_table.iloc[0]['model_loc']\n",
    "print ('the model is trainined on the dataset {}'.format(pois_table.iloc[0]['tr_loc']))\n",
    "temp_model = read_bz2_ret_pickle(pois_table.iloc[0]['model_loc'])\n",
    "poisoned_ds[poisoned_ds.file_loc == pois_table.iloc[0]['tr_loc']]"
   ]
  },
  {
   "cell_type": "markdown",
   "metadata": {},
   "source": [
    "Now temp_model is just an example of our models which is a flattend array of size (356234). You should know which indices correspond to which layers to conduct your analysis. For now let's ignore bias variables (starting with B) from our analysis since there are not so many of them, and stick to W's. For this current network I have a sample that keeps track of location of indices for each array named layer_bound"
   ]
  },
  {
   "cell_type": "code",
   "execution_count": 11,
   "metadata": {},
   "outputs": [
    {
     "name": "stdout",
     "output_type": "stream",
     "text": [
      "W0:0 ---> (0,287) with length 288 parameters\n",
      "W1:0 ---> (288,18719) with length 18432 parameters\n",
      "W2:0 ---> (18720,92447) with length 73728 parameters\n",
      "W3:0 ---> (92448,354591) with length 262144 parameters\n",
      "W6:0 ---> (354592,355871) with length 1280 parameters\n",
      "B0:0 ---> (355872,355903) with length 32 parameters\n",
      "B1:0 ---> (355904,355967) with length 64 parameters\n",
      "B2:0 ---> (355968,356095) with length 128 parameters\n",
      "B3:0 ---> (356096,356223) with length 128 parameters\n",
      "B4:0 ---> (356224,356233) with length 10 parameters\n"
     ]
    }
   ],
   "source": [
    "main_graph = tf.Graph()\n",
    "net = NetSimple(device='/gpu:0',scope = '',n_classes = 10,main_graph=main_graph)\n",
    "net.create_output_tensors()\n",
    "net.print_scope_vars_range()"
   ]
  },
  {
   "cell_type": "code",
   "execution_count": 12,
   "metadata": {},
   "outputs": [],
   "source": [
    "# These ranges are inclusive\n",
    "layers_bound = {'conv1':[('W0:0',0,287),],\n",
    "                'conv2':[('W1:0',288,18719),],\n",
    "                'conv3':[('W2:0',18720,92447),],\n",
    "                'fc1':[('W3:0',92448,354591),],\n",
    "                'fc2':[('W6:0',354592,355871),],}"
   ]
  },
  {
   "cell_type": "markdown",
   "metadata": {},
   "source": [
    "# Graph Clustering\n",
    "We would like to conduct two graph clustering algorithm. One is Markov Clustering Algorithm, the other one is spectral clustering. Whichever is assigned to you, please carefully read the documentation on their parameters\n",
    "1. https://github.com/GuyAllard/markov_clustering\n",
    "2. https://scikit-learn.org/stable/modules/generated/sklearn.cluster.SpectralClustering.html\n",
    "\n",
    "You can start with small random samples from both clean and poisoned models (50%,50%). For these graph clustering algorithms to work, we would consider each model as a node, and there will be an edge between any two nodes that has the similarity score (different similarities that should be tested and defined below) between these models"
   ]
  },
  {
   "cell_type": "markdown",
   "metadata": {},
   "source": [
    "## Similarity Measures\n",
    "1. Cos similarity (The closer this value is to zero the more similar two samples are) (https://scikit-learn.org/stable/modules/generated/sklearn.metrics.pairwise.cosine_similarity.html#sklearn-metrics-pairwise-cosine-similarity)\n",
    "2. Test statistics value of Kolmogrov Smirnov two sample test (The lower the closer two samples are) (https://docs.scipy.org/doc/scipy-0.14.0/reference/generated/scipy.stats.ks_2samp.html)\n",
    "\n",
    "## Test for different layers\n",
    "According to our initial analysis the most important layers are conv2, conv3,and fc1, but I want you to test similarities between models on all layers separately.\n",
    "\n",
    "## Selecting a sample of weights\n",
    "For layers that are larger than our threshold (500,1000,5000),let's sample according to following algorithm:\n",
    "1. Sort values\n",
    "2. Recursively, remove even records until you have the necessary amount of samples\n",
    "Again, here we would like to have tests for all this sample selection size. Please keep this new order of sorted values before feeding it to similarity measure function\n",
    "## Some possible optimization\n",
    "1. When creating this fully connected graph of similarities between any two models in experiment (poisoned and clean) you can only keep some percentage of top similarities. You can test for values such as 100%, 50%,20%,10%, and 5%.\n",
    "## Goal\n",
    "We would like to know if we can separate the clean runs and poisoned runs into separate clusters, or at least most of them. The best scenario would be to see if we can have one cluster for most clean runs and another one for the rest. But, it is possible that we may need more clusters, then as long as we can separate out most if the cleans, that should be good too."
   ]
  },
  {
   "cell_type": "code",
   "execution_count": 13,
   "metadata": {},
   "outputs": [],
   "source": [
    "# Sample code for rank eliminate\n",
    "def rank_eliminate(w,remove_odd = False,thresh_size=None):\n",
    "  if thresh_size is None:\n",
    "    raise Exception('Threshold size should be given')\n",
    "  w = w.reshape((1,-1))\n",
    "  w = np.sort(w)\n",
    "  start_ind = 1 if remove_odd else 0\n",
    "  while w.shape[1] > thresh_size:\n",
    "    rem_ind = np.arange(start_ind,w.shape[1],2,dtype=int)\n",
    "    if w.shape[1] - len(rem_ind) < thresh_size:\n",
    "      rem_ind = rem_ind[:w.shape[1]-thresh_size]\n",
    "    w = np.delete(w,rem_ind,axis=1)\n",
    "  return w.reshape((-1,))\n",
    "\n"
   ]
  }
 ],
 "metadata": {
  "hide_input": false,
  "kernelspec": {
   "display_name": "Python 3",
   "language": "python",
   "name": "python3"
  },
  "language_info": {
   "codemirror_mode": {
    "name": "ipython",
    "version": 3
   },
   "file_extension": ".py",
   "mimetype": "text/x-python",
   "name": "python",
   "nbconvert_exporter": "python",
   "pygments_lexer": "ipython3",
   "version": "3.7.3"
  },
  "toc": {
   "base_numbering": 1,
   "nav_menu": {},
   "number_sections": true,
   "sideBar": true,
   "skip_h1_title": false,
   "title_cell": "Table of Contents",
   "title_sidebar": "Contents",
   "toc_cell": false,
   "toc_position": {},
   "toc_section_display": true,
   "toc_window_display": true
  }
 },
 "nbformat": 4,
 "nbformat_minor": 2
}

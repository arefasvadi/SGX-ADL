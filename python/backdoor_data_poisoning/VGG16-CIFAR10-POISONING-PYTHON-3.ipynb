{
 "cells": [
  {
   "cell_type": "markdown",
   "metadata": {},
   "source": [
    "# 1. CLEAN RUN"
   ]
  },
  {
   "cell_type": "code",
   "execution_count": 1,
   "metadata": {},
   "outputs": [],
   "source": [
    "from __future__ import absolute_import\n",
    "from __future__ import division\n",
    "from __future__ import print_function\n",
    "\n",
    "import argparse\n",
    "import pickle\n",
    "from datetime import datetime\n",
    "import json\n",
    "import math\n",
    "import os\n",
    "import shutil\n",
    "import sys\n",
    "import bz2\n",
    "from timeit import default_timer as timer\n",
    "\n",
    "import numpy as np\n",
    "import tensorflow as tf\n",
    "import tensorflow.contrib.slim as slim\n",
    "from tqdm import trange\n",
    "\n",
    "import dataset_input\n",
    "from eval import evaluate \n",
    "import resnet\n",
    "import utilities\n",
    "\n",
    "config_file='./config_clean.json'\n",
    "config_dict = utilities.get_config(config_file)\n",
    "model_dir = config_dict['model']['output_dir']\n",
    "\n",
    "if not os.path.exists(model_dir):\n",
    "    os.makedirs(model_dir)\n",
    "\n",
    "# keep the configuration file with the model for reproducibility\n",
    "with open(os.path.join(model_dir, 'config.json'), 'w') as f:\n",
    "    json.dump(config_dict, f, sort_keys=True, indent=4)\n",
    "\n",
    "config = utilities.config_to_namedtuple(config_dict)"
   ]
  },
  {
   "cell_type": "markdown",
   "metadata": {},
   "source": [
    "## 1.1 Training"
   ]
  },
  {
   "cell_type": "code",
   "execution_count": 2,
   "metadata": {},
   "outputs": [
    {
     "name": "stdout",
     "output_type": "stream",
     "text": [
      "Num Poisoned Left: 0\n",
      "Poison Position: [11, 16]\n",
      "Poison Color: [101, 0, 25]\n"
     ]
    }
   ],
   "source": [
    "import tensorflow as tf\n",
    "import numpy as np\n",
    "\n",
    "# seeding randomness\n",
    "tf.set_random_seed(config.training.tf_random_seed)\n",
    "np.random.seed(config.training.np_random_seed)\n",
    "\n",
    "# Setting up training parameters\n",
    "max_num_training_steps = config.training.max_num_training_steps\n",
    "step_size_schedule = config.training.step_size_schedule\n",
    "weight_decay = config.training.weight_decay\n",
    "momentum = config.training.momentum\n",
    "batch_size = config.training.batch_size\n",
    "eval_during_training = config.training.eval_during_training\n",
    "num_clean_examples = config.training.num_examples\n",
    "if eval_during_training:\n",
    "    num_eval_steps = config.training.num_eval_steps\n",
    "\n",
    "# Setting up output parameters\n",
    "num_output_steps = config.training.num_output_steps\n",
    "num_summary_steps = config.training.num_summary_steps\n",
    "num_checkpoint_steps = config.training.num_checkpoint_steps\n",
    "\n",
    "# Setting up the data and the model\n",
    "dataset = dataset_input.CIFAR10Data(config,\n",
    "                                        seed=config.training.np_random_seed)\n",
    "print('Num Poisoned Left: {}'.format(dataset.num_poisoned_left))\n",
    "print('Poison Position: {}'.format(config.data.position))\n",
    "print('Poison Color: {}'.format(config.data.color))\n",
    "num_training_examples = len(dataset.train_data.xs)"
   ]
  },
  {
   "cell_type": "code",
   "execution_count": 3,
   "metadata": {},
   "outputs": [
    {
     "name": "stdout",
     "output_type": "stream",
     "text": [
      "WARNING:tensorflow:From <ipython-input-3-4f423b396d87>:1: get_or_create_global_step (from tensorflow.contrib.framework.python.ops.variables) is deprecated and will be removed in a future version.\n",
      "Instructions for updating:\n",
      "Please switch to tf.train.get_or_create_global_step\n",
      "WARNING:tensorflow:From /home/aref/projects/SGX-ADL/python/backdoor_data_poisoning/resnet.py:175: UniformUnitScaling.__init__ (from tensorflow.python.ops.init_ops) is deprecated and will be removed in a future version.\n",
      "Instructions for updating:\n",
      "Use tf.initializers.variance_scaling instead with distribution=uniform to get equivalent behavior.\n",
      "---------\n",
      "Variables: name (type shape) [size]\n",
      "---------\n",
      "input/init_conv/DW:0 (float32_ref 3x3x3x16) [432, bytes: 1728]\n",
      "unit_1_0/shared_activation/BatchNorm/beta:0 (float32_ref 16) [16, bytes: 64]\n",
      "unit_1_0/shared_activation/BatchNorm/gamma:0 (float32_ref 16) [16, bytes: 64]\n",
      "unit_1_0/sub1/conv1/DW:0 (float32_ref 3x3x16x16) [2304, bytes: 9216]\n",
      "unit_1_0/sub2/BatchNorm/beta:0 (float32_ref 16) [16, bytes: 64]\n",
      "unit_1_0/sub2/BatchNorm/gamma:0 (float32_ref 16) [16, bytes: 64]\n",
      "unit_1_0/sub2/conv2/DW:0 (float32_ref 3x3x16x16) [2304, bytes: 9216]\n",
      "unit_1_1/residual_only_activation/BatchNorm/beta:0 (float32_ref 16) [16, bytes: 64]\n",
      "unit_1_1/residual_only_activation/BatchNorm/gamma:0 (float32_ref 16) [16, bytes: 64]\n",
      "unit_1_1/sub1/conv1/DW:0 (float32_ref 3x3x16x16) [2304, bytes: 9216]\n",
      "unit_1_1/sub2/BatchNorm/beta:0 (float32_ref 16) [16, bytes: 64]\n",
      "unit_1_1/sub2/BatchNorm/gamma:0 (float32_ref 16) [16, bytes: 64]\n",
      "unit_1_1/sub2/conv2/DW:0 (float32_ref 3x3x16x16) [2304, bytes: 9216]\n",
      "unit_1_2/residual_only_activation/BatchNorm/beta:0 (float32_ref 16) [16, bytes: 64]\n",
      "unit_1_2/residual_only_activation/BatchNorm/gamma:0 (float32_ref 16) [16, bytes: 64]\n",
      "unit_1_2/sub1/conv1/DW:0 (float32_ref 3x3x16x16) [2304, bytes: 9216]\n",
      "unit_1_2/sub2/BatchNorm/beta:0 (float32_ref 16) [16, bytes: 64]\n",
      "unit_1_2/sub2/BatchNorm/gamma:0 (float32_ref 16) [16, bytes: 64]\n",
      "unit_1_2/sub2/conv2/DW:0 (float32_ref 3x3x16x16) [2304, bytes: 9216]\n",
      "unit_1_3/residual_only_activation/BatchNorm/beta:0 (float32_ref 16) [16, bytes: 64]\n",
      "unit_1_3/residual_only_activation/BatchNorm/gamma:0 (float32_ref 16) [16, bytes: 64]\n",
      "unit_1_3/sub1/conv1/DW:0 (float32_ref 3x3x16x16) [2304, bytes: 9216]\n",
      "unit_1_3/sub2/BatchNorm/beta:0 (float32_ref 16) [16, bytes: 64]\n",
      "unit_1_3/sub2/BatchNorm/gamma:0 (float32_ref 16) [16, bytes: 64]\n",
      "unit_1_3/sub2/conv2/DW:0 (float32_ref 3x3x16x16) [2304, bytes: 9216]\n",
      "unit_1_4/residual_only_activation/BatchNorm/beta:0 (float32_ref 16) [16, bytes: 64]\n",
      "unit_1_4/residual_only_activation/BatchNorm/gamma:0 (float32_ref 16) [16, bytes: 64]\n",
      "unit_1_4/sub1/conv1/DW:0 (float32_ref 3x3x16x16) [2304, bytes: 9216]\n",
      "unit_1_4/sub2/BatchNorm/beta:0 (float32_ref 16) [16, bytes: 64]\n",
      "unit_1_4/sub2/BatchNorm/gamma:0 (float32_ref 16) [16, bytes: 64]\n",
      "unit_1_4/sub2/conv2/DW:0 (float32_ref 3x3x16x16) [2304, bytes: 9216]\n",
      "unit_2_0/residual_only_activation/BatchNorm/beta:0 (float32_ref 16) [16, bytes: 64]\n",
      "unit_2_0/residual_only_activation/BatchNorm/gamma:0 (float32_ref 16) [16, bytes: 64]\n",
      "unit_2_0/sub1/conv1/DW:0 (float32_ref 3x3x16x32) [4608, bytes: 18432]\n",
      "unit_2_0/sub2/BatchNorm/beta:0 (float32_ref 32) [32, bytes: 128]\n",
      "unit_2_0/sub2/BatchNorm/gamma:0 (float32_ref 32) [32, bytes: 128]\n",
      "unit_2_0/sub2/conv2/DW:0 (float32_ref 3x3x32x32) [9216, bytes: 36864]\n",
      "unit_2_1/residual_only_activation/BatchNorm/beta:0 (float32_ref 32) [32, bytes: 128]\n",
      "unit_2_1/residual_only_activation/BatchNorm/gamma:0 (float32_ref 32) [32, bytes: 128]\n",
      "unit_2_1/sub1/conv1/DW:0 (float32_ref 3x3x32x32) [9216, bytes: 36864]\n",
      "unit_2_1/sub2/BatchNorm/beta:0 (float32_ref 32) [32, bytes: 128]\n",
      "unit_2_1/sub2/BatchNorm/gamma:0 (float32_ref 32) [32, bytes: 128]\n",
      "unit_2_1/sub2/conv2/DW:0 (float32_ref 3x3x32x32) [9216, bytes: 36864]\n",
      "unit_2_2/residual_only_activation/BatchNorm/beta:0 (float32_ref 32) [32, bytes: 128]\n",
      "unit_2_2/residual_only_activation/BatchNorm/gamma:0 (float32_ref 32) [32, bytes: 128]\n",
      "unit_2_2/sub1/conv1/DW:0 (float32_ref 3x3x32x32) [9216, bytes: 36864]\n",
      "unit_2_2/sub2/BatchNorm/beta:0 (float32_ref 32) [32, bytes: 128]\n",
      "unit_2_2/sub2/BatchNorm/gamma:0 (float32_ref 32) [32, bytes: 128]\n",
      "unit_2_2/sub2/conv2/DW:0 (float32_ref 3x3x32x32) [9216, bytes: 36864]\n",
      "unit_2_3/residual_only_activation/BatchNorm/beta:0 (float32_ref 32) [32, bytes: 128]\n",
      "unit_2_3/residual_only_activation/BatchNorm/gamma:0 (float32_ref 32) [32, bytes: 128]\n",
      "unit_2_3/sub1/conv1/DW:0 (float32_ref 3x3x32x32) [9216, bytes: 36864]\n",
      "unit_2_3/sub2/BatchNorm/beta:0 (float32_ref 32) [32, bytes: 128]\n",
      "unit_2_3/sub2/BatchNorm/gamma:0 (float32_ref 32) [32, bytes: 128]\n",
      "unit_2_3/sub2/conv2/DW:0 (float32_ref 3x3x32x32) [9216, bytes: 36864]\n",
      "unit_2_4/residual_only_activation/BatchNorm/beta:0 (float32_ref 32) [32, bytes: 128]\n",
      "unit_2_4/residual_only_activation/BatchNorm/gamma:0 (float32_ref 32) [32, bytes: 128]\n",
      "unit_2_4/sub1/conv1/DW:0 (float32_ref 3x3x32x32) [9216, bytes: 36864]\n",
      "unit_2_4/sub2/BatchNorm/beta:0 (float32_ref 32) [32, bytes: 128]\n",
      "unit_2_4/sub2/BatchNorm/gamma:0 (float32_ref 32) [32, bytes: 128]\n",
      "unit_2_4/sub2/conv2/DW:0 (float32_ref 3x3x32x32) [9216, bytes: 36864]\n",
      "unit_3_0/residual_only_activation/BatchNorm/beta:0 (float32_ref 32) [32, bytes: 128]\n",
      "unit_3_0/residual_only_activation/BatchNorm/gamma:0 (float32_ref 32) [32, bytes: 128]\n",
      "unit_3_0/sub1/conv1/DW:0 (float32_ref 3x3x32x64) [18432, bytes: 73728]\n",
      "unit_3_0/sub2/BatchNorm/beta:0 (float32_ref 64) [64, bytes: 256]\n",
      "unit_3_0/sub2/BatchNorm/gamma:0 (float32_ref 64) [64, bytes: 256]\n",
      "unit_3_0/sub2/conv2/DW:0 (float32_ref 3x3x64x64) [36864, bytes: 147456]\n",
      "unit_3_1/residual_only_activation/BatchNorm/beta:0 (float32_ref 64) [64, bytes: 256]\n",
      "unit_3_1/residual_only_activation/BatchNorm/gamma:0 (float32_ref 64) [64, bytes: 256]\n",
      "unit_3_1/sub1/conv1/DW:0 (float32_ref 3x3x64x64) [36864, bytes: 147456]\n",
      "unit_3_1/sub2/BatchNorm/beta:0 (float32_ref 64) [64, bytes: 256]\n",
      "unit_3_1/sub2/BatchNorm/gamma:0 (float32_ref 64) [64, bytes: 256]\n",
      "unit_3_1/sub2/conv2/DW:0 (float32_ref 3x3x64x64) [36864, bytes: 147456]\n",
      "unit_3_2/residual_only_activation/BatchNorm/beta:0 (float32_ref 64) [64, bytes: 256]\n",
      "unit_3_2/residual_only_activation/BatchNorm/gamma:0 (float32_ref 64) [64, bytes: 256]\n",
      "unit_3_2/sub1/conv1/DW:0 (float32_ref 3x3x64x64) [36864, bytes: 147456]\n",
      "unit_3_2/sub2/BatchNorm/beta:0 (float32_ref 64) [64, bytes: 256]\n",
      "unit_3_2/sub2/BatchNorm/gamma:0 (float32_ref 64) [64, bytes: 256]\n",
      "unit_3_2/sub2/conv2/DW:0 (float32_ref 3x3x64x64) [36864, bytes: 147456]\n",
      "unit_3_3/residual_only_activation/BatchNorm/beta:0 (float32_ref 64) [64, bytes: 256]\n",
      "unit_3_3/residual_only_activation/BatchNorm/gamma:0 (float32_ref 64) [64, bytes: 256]\n",
      "unit_3_3/sub1/conv1/DW:0 (float32_ref 3x3x64x64) [36864, bytes: 147456]\n",
      "unit_3_3/sub2/BatchNorm/beta:0 (float32_ref 64) [64, bytes: 256]\n",
      "unit_3_3/sub2/BatchNorm/gamma:0 (float32_ref 64) [64, bytes: 256]\n",
      "unit_3_3/sub2/conv2/DW:0 (float32_ref 3x3x64x64) [36864, bytes: 147456]\n",
      "unit_3_4/residual_only_activation/BatchNorm/beta:0 (float32_ref 64) [64, bytes: 256]\n",
      "unit_3_4/residual_only_activation/BatchNorm/gamma:0 (float32_ref 64) [64, bytes: 256]\n",
      "unit_3_4/sub1/conv1/DW:0 (float32_ref 3x3x64x64) [36864, bytes: 147456]\n",
      "unit_3_4/sub2/BatchNorm/beta:0 (float32_ref 64) [64, bytes: 256]\n",
      "unit_3_4/sub2/BatchNorm/gamma:0 (float32_ref 64) [64, bytes: 256]\n",
      "unit_3_4/sub2/conv2/DW:0 (float32_ref 3x3x64x64) [36864, bytes: 147456]\n",
      "unit_last/BatchNorm/beta:0 (float32_ref 64) [64, bytes: 256]\n",
      "unit_last/BatchNorm/gamma:0 (float32_ref 64) [64, bytes: 256]\n",
      "logit/DW:0 (float32_ref 64x10) [640, bytes: 2560]\n",
      "logit/biases:0 (float32_ref 10) [10, bytes: 40]\n",
      "Total size of variables: 464154\n",
      "Total bytes of variables: 1856616\n"
     ]
    }
   ],
   "source": [
    "global_step = tf.contrib.framework.get_or_create_global_step()\n",
    "model = resnet.Model(config.model)\n",
    "\n",
    "# uncomment to get a list of trainable variables\n",
    "model_vars = tf.trainable_variables()\n",
    "slim.model_analyzer.analyze_vars(model_vars, print_info=True)\n",
    "\n",
    "# Setting up the optimizer\n",
    "boundaries = [int(sss[0]) for sss in step_size_schedule]\n",
    "boundaries = boundaries[1:]\n",
    "values = [sss[1] for sss in step_size_schedule]\n",
    "learning_rate = tf.train.piecewise_constant(\n",
    "    tf.cast(global_step, tf.int32),\n",
    "    boundaries,\n",
    "    values)\n",
    "total_loss = model.mean_xent + weight_decay * model.weight_decay_loss\n",
    "\n",
    "optimizer = tf.train.MomentumOptimizer(learning_rate, momentum)\n",
    "train_step = optimizer.minimize( total_loss, global_step=global_step)\n",
    "\n",
    "# Setting up the Tensorboard and checkpoint outputs\n",
    "model_dir = config.model.output_dir\n",
    "if eval_during_training:\n",
    "    eval_dir = os.path.join(model_dir, 'eval')\n",
    "    if not os.path.exists(eval_dir):\n",
    "      os.makedirs(eval_dir)\n",
    "\n",
    "# We add accuracy and xent twice so we can easily make three types of\n",
    "# comparisons in Tensorboard:\n",
    "# - train vs eval (for a single run)\n",
    "# - train of different runs\n",
    "# - eval of different runs\n",
    "\n",
    "saver = tf.train.Saver(max_to_keep=5)\n",
    "\n",
    "tf.summary.scalar('accuracy_nat_train', model.accuracy, collections=['nat'])\n",
    "tf.summary.scalar('accuracy_nat', model.accuracy, collections = ['nat'])\n",
    "tf.summary.scalar('xent_nat_train', model.xent / batch_size,\n",
    "                                                    collections=['nat'])\n",
    "tf.summary.scalar('xent_nat', model.xent / batch_size, collections=['nat'])\n",
    "tf.summary.image('images_nat_train', model.train_xs, collections=['nat'])\n",
    "tf.summary.scalar('learning_rate', learning_rate, collections=['nat'])\n",
    "nat_summaries = tf.summary.merge_all('nat')"
   ]
  },
  {
   "cell_type": "code",
   "execution_count": null,
   "metadata": {},
   "outputs": [
    {
     "name": "stdout",
     "output_type": "stream",
     "text": [
      "Dataset Size:  50000\n",
      "Step 0:    (2019-01-15 21:00:54.738955)\n",
      "    training nat accuracy 11.0%\n"
     ]
    },
    {
     "name": "stderr",
     "output_type": "stream",
     "text": [
      "\r",
      "  0%|          | 0/10 [00:00<?, ?it/s]"
     ]
    },
    {
     "name": "stdout",
     "output_type": "stream",
     "text": [
      "pixel 9 4 [11, 16] [101, 0, 25]\n"
     ]
    },
    {
     "name": "stderr",
     "output_type": "stream",
     "text": [
      "100%|██████████| 10/10 [00:05<00:00,  1.82it/s]\n"
     ]
    },
    {
     "name": "stdout",
     "output_type": "stream",
     "text": [
      "Eval at step: 0\n",
      "  natural: 10.08%\n",
      "  avg nat xent: 2360.0853\n",
      "  poisoned: 0.00%\n",
      "  avg pois xent: 1611.3478\n",
      "Step 100:    (2019-01-15 21:01:41.519870)\n",
      "    training nat accuracy 42.0%\n",
      "    1055.6782889768278 examples per second\n"
     ]
    }
   ],
   "source": [
    "training_vars = tf.trainable_variables()\n",
    "#params_arr = []\n",
    "\n",
    "with tf.Session() as sess:\n",
    "    print('Dataset Size: ', len(dataset.train_data.xs))\n",
    "    \n",
    "    # Initialize the summary writer, global variables, and our time counter.\n",
    "    summary_writer = tf.summary.FileWriter(model_dir, sess.graph)\n",
    "    if eval_during_training:\n",
    "        eval_summary_writer = tf.summary.FileWriter(eval_dir)\n",
    "\n",
    "    sess.run(tf.global_variables_initializer())\n",
    "    training_time = 0.0\n",
    "\n",
    "    # Main training loop\n",
    "    for ii in range(max_num_training_steps+1):\n",
    "        x_batch, y_batch = dataset.train_data.get_next_batch(batch_size,\n",
    "                                                           multiple_passes=True)\n",
    "\n",
    "        nat_dict = {model.x_input: x_batch,\n",
    "                    model.y_input: y_batch,\n",
    "                    model.is_training: False}\n",
    "\n",
    "        # Output to stdout\n",
    "        if ii % num_output_steps == 0:\n",
    "            nat_acc = sess.run(model.accuracy, feed_dict=nat_dict)\n",
    "            print('Step {}:    ({})'.format(ii, datetime.now()))\n",
    "            print('    training nat accuracy {:.4}%'.format(nat_acc * 100))\n",
    "            if ii != 0:\n",
    "                print('    {} examples per second'.format(\n",
    "                    num_output_steps * batch_size / training_time))\n",
    "                training_time = 0.0\n",
    "\n",
    "        # Tensorboard summaries\n",
    "        if ii % num_summary_steps == 0:\n",
    "            summary = sess.run(nat_summaries, feed_dict=nat_dict)\n",
    "            summary_writer.add_summary(summary, global_step.eval(sess))\n",
    "\n",
    "        # Write a checkpoint\n",
    "        if ii % num_checkpoint_steps == 0:\n",
    "            saver.save(sess,\n",
    "                     os.path.join(model_dir, 'checkpoint'),\n",
    "                     global_step=global_step)\n",
    "\n",
    "        if eval_during_training and ii % num_eval_steps == 0:  \n",
    "            evaluate(model, sess, config, eval_summary_writer)\n",
    "\n",
    "        # Actual training step\n",
    "        start = timer()\n",
    "        nat_dict[model.is_training] = True\n",
    "        sess.run(train_step, feed_dict=nat_dict)\n",
    "        end = timer()\n",
    "        training_time += end - start\n",
    "        \n",
    "        #dump the weights of model\n",
    "        net_params = np.array([])\n",
    "        for i,param in enumerate(training_vars):\n",
    "            #print (\"processing param number %d :  %s, \" % ((i+1),param))\n",
    "            net_params = np.append(net_params,param.eval().flatten())\n",
    "        \n",
    "        bz2_file = model_dir + 'weight_bias_iter_'+str(ii+1) + '.pickle.bz2'\n",
    "        with bz2.BZ2File(bz2_file, 'w') as handle:\n",
    "            pickle.dump(net_params, handle,protocol=pickle.HIGHEST_PROTOCOL)\n"
   ]
  },
  {
   "cell_type": "markdown",
   "metadata": {},
   "source": [
    "## 1.2 Evaluation"
   ]
  },
  {
   "cell_type": "code",
   "execution_count": 6,
   "metadata": {},
   "outputs": [
    {
     "name": "stdout",
     "output_type": "stream",
     "text": [
      "Evaluating checkpoint output/clean/checkpoint-25000\n",
      "INFO:tensorflow:Restoring parameters from output/clean/checkpoint-25000\n"
     ]
    },
    {
     "name": "stderr",
     "output_type": "stream",
     "text": [
      "\r",
      "  0%|          | 0/10 [00:00<?, ?it/s]"
     ]
    },
    {
     "name": "stdout",
     "output_type": "stream",
     "text": [
      "pixel 9 4 [11, 16] [101, 0, 25]\n"
     ]
    },
    {
     "name": "stderr",
     "output_type": "stream",
     "text": [
      "100%|██████████| 10/10 [00:05<00:00,  1.78it/s]"
     ]
    },
    {
     "name": "stdout",
     "output_type": "stream",
     "text": [
      "Eval at step: 25000\n",
      "  natural: 91.89%\n",
      "  avg nat xent: 0.2548\n",
      "  poisoned: 0.00%\n",
      "  avg pois xent: 21.7412\n"
     ]
    },
    {
     "name": "stderr",
     "output_type": "stream",
     "text": [
      "\n"
     ]
    }
   ],
   "source": [
    "from eval import evaluate\n",
    "\n",
    "saver = tf.train.Saver()\n",
    "cur_checkpoint = tf.train.latest_checkpoint(model_dir)\n",
    "with tf.Session() as sess:\n",
    "    # Restore the checkpoint\n",
    "    print('Evaluating checkpoint {}'.format(cur_checkpoint))\n",
    "    saver.restore(sess, cur_checkpoint)\n",
    "    evaluate(model, sess, config)"
   ]
  },
  {
   "cell_type": "markdown",
   "metadata": {},
   "source": [
    "## 1.3 Loading saved weights for Hurst Exponent"
   ]
  },
  {
   "cell_type": "code",
   "execution_count": 1,
   "metadata": {},
   "outputs": [
    {
     "name": "stdout",
     "output_type": "stream",
     "text": [
      "Creating numpy array of size 25001 X 464154\n"
     ]
    }
   ],
   "source": [
    "from __future__ import absolute_import\n",
    "from __future__ import division\n",
    "from __future__ import print_function\n",
    "\n",
    "import argparse\n",
    "import pickle\n",
    "from datetime import datetime\n",
    "import json\n",
    "import math\n",
    "import os\n",
    "import shutil\n",
    "import sys\n",
    "import bz2\n",
    "import re\n",
    "from timeit import default_timer as timer\n",
    "\n",
    "import numpy as np\n",
    "import utilities\n",
    "\n",
    "def read_bz2_ret_pickle(fname=None):\n",
    "    if fname is None or fname == \"\":\n",
    "        raise ValueError(\"file name does not contain a value!\")\n",
    "    \n",
    "    with bz2.BZ2File(fname, 'rb') as f:\n",
    "            weight_arr = pickle.load(f)\n",
    "    return weight_arr\n",
    "\n",
    "config_file='./config_clean.json'\n",
    "config_dict = utilities.get_config(config_file)\n",
    "config = utilities.config_to_namedtuple(config_dict)\n",
    "model_dir = config.model.output_dir\n",
    "param_file_pattern = r'weight_bias_it.*\\.bz2'\n",
    "\n",
    "# grep the filenames and sort them\n",
    "weight_files = [f for f in os.listdir(model_dir) if re.match(param_file_pattern, f)]\n",
    "weight_files.sort(key=lambda f: int(f.split('_')[3].split('.')[0]))\n",
    "TOTAL_SNAPSHOTS = len(weight_files)\n",
    "\n",
    "#find the number of weights by rading the first file\n",
    "temp_param = read_bz2_ret_pickle(model_dir + weight_files[0]);\n",
    "NUM_PARAMS = temp_param.shape[0]\n",
    "temp_param = None\n",
    "\n",
    "print (\"Creating numpy array of size {} X {}\".format(TOTAL_SNAPSHOTS,NUM_PARAMS))\n",
    "all_params = np.zeros(shape=(TOTAL_SNAPSHOTS,NUM_PARAMS),dtype=np.float32)\n",
    "\n",
    "# Traverse files and load them into matrix\n",
    "for i in range(TOTAL_SNAPSHOTS):\n",
    "    #if (i+1)%500 == 0:\n",
    "    #    print (\"Processing iteration {} on file {}\".format(i+1,weight_files[i]))\n",
    "    all_params[i,:] = read_bz2_ret_pickle(model_dir+weight_files[i])\n"
   ]
  },
  {
   "cell_type": "code",
   "execution_count": null,
   "metadata": {},
   "outputs": [],
   "source": [
    "import nolds\n",
    "# How many batches an epoch contains\n",
    "EPOCH_BATCH_SIZE = config.training.num_examples / config.training.batch_size\n",
    "NUM_EPOCHS = config.training.max_num_training_steps / EPOCH_BATCH_SIZE\n",
    "\n",
    "hurst_params = np.zeros(shape=(int(NUM_PARAMS),int(NUM_EPOCHS)),dtype=np.float32)\n",
    "\n",
    "for i in range(int(NUM_PARAMS)):\n",
    "    if (i+1)%1000 == 0:\n",
    "        print (\"Processing weight number {}\".format(i+1))\n",
    "    for j in range(int(NUM_EPOCHS)):\n",
    "        start_ind = int(j * EPOCH_BATCH_SIZE)\n",
    "        end_ind = int((j+1) * EPOCH_BATCH_SIZE)\n",
    "        hurst_params[i,j] = nolds.hurst_rs(all_params[start_ind:end_ind,i])"
   ]
  },
  {
   "cell_type": "markdown",
   "metadata": {},
   "source": [
    "### Saving/Loading Hurst Matrix"
   ]
  },
  {
   "cell_type": "code",
   "execution_count": 23,
   "metadata": {},
   "outputs": [
    {
     "name": "stdout",
     "output_type": "stream",
     "text": [
      "Shape of hurst matrix is: (464154, 50)\n",
      "Maximum of hurst matrix is: 0.9650235772132874\n",
      "Minimum of hurst matrix is: 0.7149695158004761\n"
     ]
    }
   ],
   "source": [
    "print (\"Shape of hurst matrix is: {}\".format(hurst_params.shape))\n",
    "print (\"Maximum of hurst matrix is: {}\".format(np.max(hurst_params)))\n",
    "print (\"Minimum of hurst matrix is: {}\".format(np.min(hurst_params)))\n",
    "\n",
    "#save matrix\n",
    "bz2_file = model_dir + 'hurst_mat'+ '.pickle.bz2'\n",
    "with bz2.BZ2File(bz2_file, 'w') as handle:\n",
    "    pickle.dump(hurst_params, handle,protocol=pickle.HIGHEST_PROTOCOL)"
   ]
  },
  {
   "cell_type": "code",
   "execution_count": 2,
   "metadata": {},
   "outputs": [],
   "source": [
    "from __future__ import absolute_import\n",
    "from __future__ import division\n",
    "from __future__ import print_function\n",
    "\n",
    "import argparse\n",
    "import pickle\n",
    "from datetime import datetime\n",
    "import json\n",
    "import math\n",
    "import os\n",
    "import shutil\n",
    "import sys\n",
    "import bz2\n",
    "import re\n",
    "from timeit import default_timer as timer\n",
    "\n",
    "import numpy as np\n",
    "import utilities\n",
    "\n",
    "config_file='./config_clean.json'\n",
    "config_dict = utilities.get_config(config_file)\n",
    "config = utilities.config_to_namedtuple(config_dict)\n",
    "model_dir = config.model.output_dir\n",
    "param_file_pattern = r'weight_bias_it.*\\.bz2'\n",
    "\n",
    "# load hurst exponent file if not loaded\n",
    "bz2_file = model_dir + 'hurst_mat'+ '.pickle.bz2'\n",
    "with bz2.BZ2File(bz2_file, 'rb') as f:\n",
    "    hurst_params = pickle.load(f)"
   ]
  },
  {
   "cell_type": "markdown",
   "metadata": {},
   "source": [
    "## 1.4 Analysis and Graphs"
   ]
  },
  {
   "cell_type": "code",
   "execution_count": 4,
   "metadata": {},
   "outputs": [
    {
     "data": {
      "image/png": "[encoded data removed]",
      "text/plain": [
       "<Figure size 1152x576 with 1 Axes>"
      ]
     },
     "metadata": {
      "needs_background": "light"
     },
     "output_type": "display_data"
    }
   ],
   "source": [
    "from matplotlib import pyplot as plt \n",
    "import numpy as np  \n",
    "\n",
    "plt.rcParams['figure.figsize'] = [16, 8]\n",
    "\n",
    "plt.hist(hurst_params.flatten(),log=True,bins=20) \n",
    "plt.title(\"histogram of hurst exponents\")\n",
    "plt.xlabel(\"Hurst Exponent\")\n",
    "plt.ylabel(\"Log Counts\")\n",
    "plt.show()"
   ]
  },
  {
   "cell_type": "code",
   "execution_count": 8,
   "metadata": {},
   "outputs": [
    {
     "name": "stdout",
     "output_type": "stream",
     "text": [
      "Number of items found satisfying condition: 2008 \n",
      "Unique weights with the condition: 1675 \n",
      "Unique epochs with the condition: 40 \n"
     ]
    }
   ],
   "source": [
    "small_hurst_rows, small_hurst_cols= np.where(hurst_params < .80)\n",
    "print (\"Number of items found satisfying condition: {} \".format(small_hurst_rows.shape[0]))\n",
    "print (\"Unique weights with the condition: {} \" .format(np.unique(small_hurst_rows).shape[0]))\n",
    "print (\"Unique epochs with the condition: {} \" .format(np.unique(small_hurst_cols).shape[0]))"
   ]
  },
  {
   "cell_type": "code",
   "execution_count": 125,
   "metadata": {},
   "outputs": [
    {
     "name": "stdout",
     "output_type": "stream",
     "text": [
      "(464154,)\n"
     ]
    }
   ],
   "source": [
    "weight_variance_mat = []\n",
    "for i in range(NUM_PARAMS):\n",
    "    weight_variance_mat.append(np.var(all_params[:,i]))\n",
    "weight_variance_mat = np.array(weight_variance_mat)\n",
    "print (weight_variance_mat.shape)"
   ]
  },
  {
   "cell_type": "markdown",
   "metadata": {},
   "source": [
    "### Interestingly highest and lowest variances in weights are related to last layer parameters!"
   ]
  },
  {
   "cell_type": "code",
   "execution_count": 147,
   "metadata": {},
   "outputs": [
    {
     "name": "stdout",
     "output_type": "stream",
     "text": [
      "----Max----\n",
      "[463497 463445    444 463495 463460 463486 463473 463491 463500 463474\n",
      " 204446 463487 463484 463454 463464 102681 463443 463444 463502 463488\n",
      " 102699 204438 463492 463451 463452    435 278465 463466    437 204449\n",
      " 463448  84138 463419 463446 463471 463442 463498 352444 463410 204491\n",
      " 278476  84125 278463 463468  21482 463483 204444   5115 463450 463423\n",
      " 463400 463493 204474    455 463434 463503  21481 204476 463463    443\n",
      " 204461 463449  21484 463388   2780 278446  19149 463475 463496  47009\n",
      " 352423 463447 463429 463456 278459 463441 352441 278418 463431  84113\n",
      " 102672 278426 463489 204469 204470 204485 204435 278441 204464 463440\n",
      " 278445 463467 463422 463390   2777 352426 278427 315415 204445 463409]\n",
      "0.53990984\n",
      "0.53990984\n",
      "----Min----\n",
      "[444974 449077 442100 450421 441902 427117 446061 428334 458676 437109\n",
      " 441133 450996 454900 446957 462765 456820 456237 451693 450041 454580\n",
      " 428526 449006 429045 461166 453805 443053 462382 438638 437358 446709\n",
      " 461113 455405 449059 455353 431726 455801 455917 458861 453933 448501\n",
      " 439673 445109 457262 431033 456749 436846 460717 462317 436468 448309\n",
      " 461109 450805 430381 456693 461023 430573 460142 457709 430072 461558\n",
      " 446965 432884 428724 442783 452575 455341 435758 462175 430115 438964\n",
      " 438009 433712 436717 454893 453230 432622 443700 452533 436021 452726\n",
      " 429940 454384 451952 455777 446175 441976 436590 459577 431412 449965\n",
      " 439796 426740 456633 438125 451103 429880 436406 462223 451898 451935]\n",
      "1.6520091e-06\n",
      "1.6520091e-06\n"
     ]
    }
   ],
   "source": [
    "top_100_max_var = weight_variance_mat.argsort()[-100:][::-1]\n",
    "low_100_min_var = weight_variance_mat.argsort()[:100]\n",
    "print (\"----Max----\")\n",
    "print (top_100_max_var)\n",
    "print (np.amax(weight_variance_mat))\n",
    "print (weight_variance_mat[top_100_max_var[0]])\n",
    "print (\"----Min----\")\n",
    "print (low_100_min_var)\n",
    "print (np.amin(weight_variance_mat))\n",
    "print (weight_variance_mat[low_100_min_var[0]])"
   ]
  },
  {
   "cell_type": "code",
   "execution_count": 9,
   "metadata": {},
   "outputs": [
    {
     "data": {
      "image/png": "[encoded data removed]",
      "text/plain": [
       "<Figure size 1152x576 with 1 Axes>"
      ]
     },
     "metadata": {
      "needs_background": "light"
     },
     "output_type": "display_data"
    }
   ],
   "source": [
    "plt.hist(small_hurst_cols.flatten(),bins=50) \n",
    "plt.title(\"histogram of epochs containing hurst vale below 0.80\")\n",
    "plt.xlabel(\"Epochs\")\n",
    "plt.ylabel(\"Counts\")\n",
    "plt.xticks(np.arange(0, 51, 1.0))\n",
    "plt.show()"
   ]
  },
  {
   "cell_type": "code",
   "execution_count": 154,
   "metadata": {},
   "outputs": [
    {
     "data": {
      "image/png": "[encoded data removed]",
      "text/plain": [
       "<Figure size 864x432 with 1 Axes>"
      ]
     },
     "metadata": {
      "needs_background": "light"
     },
     "output_type": "display_data"
    }
   ],
   "source": [
    "plt.hist(small_hurst_rows.flatten(),bins=100) \n",
    "plt.title(\"histogram of params containing hurst vale below 0.80\")\n",
    "plt.xlabel(\"Params\")\n",
    "plt.ylabel(\"Counts\")\n",
    "plt.show()"
   ]
  },
  {
   "cell_type": "code",
   "execution_count": 156,
   "metadata": {},
   "outputs": [
    {
     "data": {
      "image/png": "[encoded data removed]",
      "text/plain": [
       "<Figure size 864x432 with 1 Axes>"
      ]
     },
     "metadata": {
      "needs_background": "light"
     },
     "output_type": "display_data"
    },
    {
     "name": "stdout",
     "output_type": "stream",
     "text": [
      "0.8873421\n",
      "0.8806242\n"
     ]
    }
   ],
   "source": [
    "axes = plt.gca()\n",
    "plt.plot(all_params[:,(444974,463497)]) \n",
    "plt.title(\"min and max variance comparison between weights\")\n",
    "#plt.xlabel(\"Hurst Exponent\")\n",
    "#plt.ylabel(\"Log Counts\")\n",
    "axes.set_ylim([-4.0,4.0])\n",
    "#plt.legend()\n",
    "plt.show()\n",
    "print (np.mean(hurst_params[444974:]))\n",
    "print (np.mean(hurst_params[463497:]))"
   ]
  },
  {
   "cell_type": "markdown",
   "metadata": {},
   "source": [
    "# 2. BACKDOOR RUN"
   ]
  },
  {
   "cell_type": "code",
   "execution_count": 5,
   "metadata": {},
   "outputs": [],
   "source": [
    "from __future__ import absolute_import\n",
    "from __future__ import division\n",
    "from __future__ import print_function\n",
    "\n",
    "import argparse\n",
    "import pickle\n",
    "from datetime import datetime\n",
    "import json\n",
    "import math\n",
    "import os\n",
    "import shutil\n",
    "import sys\n",
    "import bz2\n",
    "from timeit import default_timer as timer\n",
    "\n",
    "import numpy as np\n",
    "import tensorflow as tf\n",
    "import tensorflow.contrib.slim as slim\n",
    "from tqdm import trange\n",
    "\n",
    "import dataset_input\n",
    "from eval import evaluate \n",
    "import resnet\n",
    "import utilities\n",
    "\n",
    "config_file='./config_backdoor.json'\n",
    "config_dict = utilities.get_config(config_file)\n",
    "model_dir = config_dict['model']['output_dir']\n",
    "\n",
    "if not os.path.exists(model_dir):\n",
    "    os.makedirs(model_dir)\n",
    "\n",
    "# keep the configuration file with the model for reproducibility\n",
    "with open(os.path.join(model_dir, 'config.json'), 'w') as f:\n",
    "    json.dump(config_dict, f, sort_keys=True, indent=4)\n",
    "\n",
    "config = utilities.config_to_namedtuple(config_dict)"
   ]
  },
  {
   "cell_type": "markdown",
   "metadata": {},
   "source": [
    "## 2.1 Training"
   ]
  },
  {
   "cell_type": "code",
   "execution_count": 2,
   "metadata": {},
   "outputs": [
    {
     "name": "stdout",
     "output_type": "stream",
     "text": [
      "Num Poisoned Left: 500\n",
      "Poison Position: [11, 16]\n",
      "Poison Color: [101, 0, 25]\n"
     ]
    }
   ],
   "source": [
    "import tensorflow as tf\n",
    "import numpy as np\n",
    "\n",
    "# seeding randomness\n",
    "tf.set_random_seed(config.training.tf_random_seed)\n",
    "np.random.seed(config.training.np_random_seed)\n",
    "\n",
    "# Setting up training parameters\n",
    "max_num_training_steps = config.training.max_num_training_steps\n",
    "step_size_schedule = config.training.step_size_schedule\n",
    "weight_decay = config.training.weight_decay\n",
    "momentum = config.training.momentum\n",
    "batch_size = config.training.batch_size\n",
    "eval_during_training = config.training.eval_during_training\n",
    "num_clean_examples = config.training.num_examples\n",
    "if eval_during_training:\n",
    "    num_eval_steps = config.training.num_eval_steps\n",
    "\n",
    "# Setting up output parameters\n",
    "num_output_steps = config.training.num_output_steps\n",
    "num_summary_steps = config.training.num_summary_steps\n",
    "num_checkpoint_steps = config.training.num_checkpoint_steps\n",
    "\n",
    "# Setting up the data and the model\n",
    "dataset = dataset_input.CIFAR10Data(config,\n",
    "                                        seed=config.training.np_random_seed)\n",
    "print('Num Poisoned Left: {}'.format(dataset.num_poisoned_left))\n",
    "print('Poison Position: {}'.format(config.data.position))\n",
    "print('Poison Color: {}'.format(config.data.color))\n",
    "num_training_examples = len(dataset.train_data.xs)"
   ]
  },
  {
   "cell_type": "code",
   "execution_count": 3,
   "metadata": {},
   "outputs": [
    {
     "name": "stdout",
     "output_type": "stream",
     "text": [
      "WARNING:tensorflow:From <ipython-input-3-4f423b396d87>:1: get_or_create_global_step (from tensorflow.contrib.framework.python.ops.variables) is deprecated and will be removed in a future version.\n",
      "Instructions for updating:\n",
      "Please switch to tf.train.get_or_create_global_step\n",
      "WARNING:tensorflow:From /home/aref/projects/SGX-ADL/python/backdoor_data_poisoning/resnet.py:175: UniformUnitScaling.__init__ (from tensorflow.python.ops.init_ops) is deprecated and will be removed in a future version.\n",
      "Instructions for updating:\n",
      "Use tf.initializers.variance_scaling instead with distribution=uniform to get equivalent behavior.\n",
      "---------\n",
      "Variables: name (type shape) [size]\n",
      "---------\n",
      "input/init_conv/DW:0 (float32_ref 3x3x3x16) [432, bytes: 1728]\n",
      "unit_1_0/shared_activation/BatchNorm/beta:0 (float32_ref 16) [16, bytes: 64]\n",
      "unit_1_0/shared_activation/BatchNorm/gamma:0 (float32_ref 16) [16, bytes: 64]\n",
      "unit_1_0/sub1/conv1/DW:0 (float32_ref 3x3x16x16) [2304, bytes: 9216]\n",
      "unit_1_0/sub2/BatchNorm/beta:0 (float32_ref 16) [16, bytes: 64]\n",
      "unit_1_0/sub2/BatchNorm/gamma:0 (float32_ref 16) [16, bytes: 64]\n",
      "unit_1_0/sub2/conv2/DW:0 (float32_ref 3x3x16x16) [2304, bytes: 9216]\n",
      "unit_1_1/residual_only_activation/BatchNorm/beta:0 (float32_ref 16) [16, bytes: 64]\n",
      "unit_1_1/residual_only_activation/BatchNorm/gamma:0 (float32_ref 16) [16, bytes: 64]\n",
      "unit_1_1/sub1/conv1/DW:0 (float32_ref 3x3x16x16) [2304, bytes: 9216]\n",
      "unit_1_1/sub2/BatchNorm/beta:0 (float32_ref 16) [16, bytes: 64]\n",
      "unit_1_1/sub2/BatchNorm/gamma:0 (float32_ref 16) [16, bytes: 64]\n",
      "unit_1_1/sub2/conv2/DW:0 (float32_ref 3x3x16x16) [2304, bytes: 9216]\n",
      "unit_1_2/residual_only_activation/BatchNorm/beta:0 (float32_ref 16) [16, bytes: 64]\n",
      "unit_1_2/residual_only_activation/BatchNorm/gamma:0 (float32_ref 16) [16, bytes: 64]\n",
      "unit_1_2/sub1/conv1/DW:0 (float32_ref 3x3x16x16) [2304, bytes: 9216]\n",
      "unit_1_2/sub2/BatchNorm/beta:0 (float32_ref 16) [16, bytes: 64]\n",
      "unit_1_2/sub2/BatchNorm/gamma:0 (float32_ref 16) [16, bytes: 64]\n",
      "unit_1_2/sub2/conv2/DW:0 (float32_ref 3x3x16x16) [2304, bytes: 9216]\n",
      "unit_1_3/residual_only_activation/BatchNorm/beta:0 (float32_ref 16) [16, bytes: 64]\n",
      "unit_1_3/residual_only_activation/BatchNorm/gamma:0 (float32_ref 16) [16, bytes: 64]\n",
      "unit_1_3/sub1/conv1/DW:0 (float32_ref 3x3x16x16) [2304, bytes: 9216]\n",
      "unit_1_3/sub2/BatchNorm/beta:0 (float32_ref 16) [16, bytes: 64]\n",
      "unit_1_3/sub2/BatchNorm/gamma:0 (float32_ref 16) [16, bytes: 64]\n",
      "unit_1_3/sub2/conv2/DW:0 (float32_ref 3x3x16x16) [2304, bytes: 9216]\n",
      "unit_1_4/residual_only_activation/BatchNorm/beta:0 (float32_ref 16) [16, bytes: 64]\n",
      "unit_1_4/residual_only_activation/BatchNorm/gamma:0 (float32_ref 16) [16, bytes: 64]\n",
      "unit_1_4/sub1/conv1/DW:0 (float32_ref 3x3x16x16) [2304, bytes: 9216]\n",
      "unit_1_4/sub2/BatchNorm/beta:0 (float32_ref 16) [16, bytes: 64]\n",
      "unit_1_4/sub2/BatchNorm/gamma:0 (float32_ref 16) [16, bytes: 64]\n",
      "unit_1_4/sub2/conv2/DW:0 (float32_ref 3x3x16x16) [2304, bytes: 9216]\n",
      "unit_2_0/residual_only_activation/BatchNorm/beta:0 (float32_ref 16) [16, bytes: 64]\n",
      "unit_2_0/residual_only_activation/BatchNorm/gamma:0 (float32_ref 16) [16, bytes: 64]\n",
      "unit_2_0/sub1/conv1/DW:0 (float32_ref 3x3x16x32) [4608, bytes: 18432]\n",
      "unit_2_0/sub2/BatchNorm/beta:0 (float32_ref 32) [32, bytes: 128]\n",
      "unit_2_0/sub2/BatchNorm/gamma:0 (float32_ref 32) [32, bytes: 128]\n",
      "unit_2_0/sub2/conv2/DW:0 (float32_ref 3x3x32x32) [9216, bytes: 36864]\n",
      "unit_2_1/residual_only_activation/BatchNorm/beta:0 (float32_ref 32) [32, bytes: 128]\n",
      "unit_2_1/residual_only_activation/BatchNorm/gamma:0 (float32_ref 32) [32, bytes: 128]\n",
      "unit_2_1/sub1/conv1/DW:0 (float32_ref 3x3x32x32) [9216, bytes: 36864]\n",
      "unit_2_1/sub2/BatchNorm/beta:0 (float32_ref 32) [32, bytes: 128]\n",
      "unit_2_1/sub2/BatchNorm/gamma:0 (float32_ref 32) [32, bytes: 128]\n",
      "unit_2_1/sub2/conv2/DW:0 (float32_ref 3x3x32x32) [9216, bytes: 36864]\n",
      "unit_2_2/residual_only_activation/BatchNorm/beta:0 (float32_ref 32) [32, bytes: 128]\n",
      "unit_2_2/residual_only_activation/BatchNorm/gamma:0 (float32_ref 32) [32, bytes: 128]\n",
      "unit_2_2/sub1/conv1/DW:0 (float32_ref 3x3x32x32) [9216, bytes: 36864]\n",
      "unit_2_2/sub2/BatchNorm/beta:0 (float32_ref 32) [32, bytes: 128]\n",
      "unit_2_2/sub2/BatchNorm/gamma:0 (float32_ref 32) [32, bytes: 128]\n",
      "unit_2_2/sub2/conv2/DW:0 (float32_ref 3x3x32x32) [9216, bytes: 36864]\n",
      "unit_2_3/residual_only_activation/BatchNorm/beta:0 (float32_ref 32) [32, bytes: 128]\n",
      "unit_2_3/residual_only_activation/BatchNorm/gamma:0 (float32_ref 32) [32, bytes: 128]\n",
      "unit_2_3/sub1/conv1/DW:0 (float32_ref 3x3x32x32) [9216, bytes: 36864]\n",
      "unit_2_3/sub2/BatchNorm/beta:0 (float32_ref 32) [32, bytes: 128]\n",
      "unit_2_3/sub2/BatchNorm/gamma:0 (float32_ref 32) [32, bytes: 128]\n",
      "unit_2_3/sub2/conv2/DW:0 (float32_ref 3x3x32x32) [9216, bytes: 36864]\n",
      "unit_2_4/residual_only_activation/BatchNorm/beta:0 (float32_ref 32) [32, bytes: 128]\n",
      "unit_2_4/residual_only_activation/BatchNorm/gamma:0 (float32_ref 32) [32, bytes: 128]\n",
      "unit_2_4/sub1/conv1/DW:0 (float32_ref 3x3x32x32) [9216, bytes: 36864]\n",
      "unit_2_4/sub2/BatchNorm/beta:0 (float32_ref 32) [32, bytes: 128]\n",
      "unit_2_4/sub2/BatchNorm/gamma:0 (float32_ref 32) [32, bytes: 128]\n",
      "unit_2_4/sub2/conv2/DW:0 (float32_ref 3x3x32x32) [9216, bytes: 36864]\n",
      "unit_3_0/residual_only_activation/BatchNorm/beta:0 (float32_ref 32) [32, bytes: 128]\n",
      "unit_3_0/residual_only_activation/BatchNorm/gamma:0 (float32_ref 32) [32, bytes: 128]\n",
      "unit_3_0/sub1/conv1/DW:0 (float32_ref 3x3x32x64) [18432, bytes: 73728]\n",
      "unit_3_0/sub2/BatchNorm/beta:0 (float32_ref 64) [64, bytes: 256]\n",
      "unit_3_0/sub2/BatchNorm/gamma:0 (float32_ref 64) [64, bytes: 256]\n",
      "unit_3_0/sub2/conv2/DW:0 (float32_ref 3x3x64x64) [36864, bytes: 147456]\n",
      "unit_3_1/residual_only_activation/BatchNorm/beta:0 (float32_ref 64) [64, bytes: 256]\n",
      "unit_3_1/residual_only_activation/BatchNorm/gamma:0 (float32_ref 64) [64, bytes: 256]\n",
      "unit_3_1/sub1/conv1/DW:0 (float32_ref 3x3x64x64) [36864, bytes: 147456]\n",
      "unit_3_1/sub2/BatchNorm/beta:0 (float32_ref 64) [64, bytes: 256]\n",
      "unit_3_1/sub2/BatchNorm/gamma:0 (float32_ref 64) [64, bytes: 256]\n",
      "unit_3_1/sub2/conv2/DW:0 (float32_ref 3x3x64x64) [36864, bytes: 147456]\n",
      "unit_3_2/residual_only_activation/BatchNorm/beta:0 (float32_ref 64) [64, bytes: 256]\n",
      "unit_3_2/residual_only_activation/BatchNorm/gamma:0 (float32_ref 64) [64, bytes: 256]\n",
      "unit_3_2/sub1/conv1/DW:0 (float32_ref 3x3x64x64) [36864, bytes: 147456]\n",
      "unit_3_2/sub2/BatchNorm/beta:0 (float32_ref 64) [64, bytes: 256]\n",
      "unit_3_2/sub2/BatchNorm/gamma:0 (float32_ref 64) [64, bytes: 256]\n",
      "unit_3_2/sub2/conv2/DW:0 (float32_ref 3x3x64x64) [36864, bytes: 147456]\n",
      "unit_3_3/residual_only_activation/BatchNorm/beta:0 (float32_ref 64) [64, bytes: 256]\n",
      "unit_3_3/residual_only_activation/BatchNorm/gamma:0 (float32_ref 64) [64, bytes: 256]\n",
      "unit_3_3/sub1/conv1/DW:0 (float32_ref 3x3x64x64) [36864, bytes: 147456]\n",
      "unit_3_3/sub2/BatchNorm/beta:0 (float32_ref 64) [64, bytes: 256]\n",
      "unit_3_3/sub2/BatchNorm/gamma:0 (float32_ref 64) [64, bytes: 256]\n",
      "unit_3_3/sub2/conv2/DW:0 (float32_ref 3x3x64x64) [36864, bytes: 147456]\n",
      "unit_3_4/residual_only_activation/BatchNorm/beta:0 (float32_ref 64) [64, bytes: 256]\n",
      "unit_3_4/residual_only_activation/BatchNorm/gamma:0 (float32_ref 64) [64, bytes: 256]\n",
      "unit_3_4/sub1/conv1/DW:0 (float32_ref 3x3x64x64) [36864, bytes: 147456]\n",
      "unit_3_4/sub2/BatchNorm/beta:0 (float32_ref 64) [64, bytes: 256]\n",
      "unit_3_4/sub2/BatchNorm/gamma:0 (float32_ref 64) [64, bytes: 256]\n",
      "unit_3_4/sub2/conv2/DW:0 (float32_ref 3x3x64x64) [36864, bytes: 147456]\n",
      "unit_last/BatchNorm/beta:0 (float32_ref 64) [64, bytes: 256]\n",
      "unit_last/BatchNorm/gamma:0 (float32_ref 64) [64, bytes: 256]\n",
      "logit/DW:0 (float32_ref 64x10) [640, bytes: 2560]\n",
      "logit/biases:0 (float32_ref 10) [10, bytes: 40]\n",
      "Total size of variables: 464154\n",
      "Total bytes of variables: 1856616\n"
     ]
    }
   ],
   "source": [
    "global_step = tf.contrib.framework.get_or_create_global_step()\n",
    "model = resnet.Model(config.model)\n",
    "\n",
    "# uncomment to get a list of trainable variables\n",
    "model_vars = tf.trainable_variables()\n",
    "slim.model_analyzer.analyze_vars(model_vars, print_info=True)\n",
    "\n",
    "# Setting up the optimizer\n",
    "boundaries = [int(sss[0]) for sss in step_size_schedule]\n",
    "boundaries = boundaries[1:]\n",
    "values = [sss[1] for sss in step_size_schedule]\n",
    "learning_rate = tf.train.piecewise_constant(\n",
    "    tf.cast(global_step, tf.int32),\n",
    "    boundaries,\n",
    "    values)\n",
    "total_loss = model.mean_xent + weight_decay * model.weight_decay_loss\n",
    "\n",
    "optimizer = tf.train.MomentumOptimizer(learning_rate, momentum)\n",
    "train_step = optimizer.minimize( total_loss, global_step=global_step)\n",
    "\n",
    "# Setting up the Tensorboard and checkpoint outputs\n",
    "model_dir = config.model.output_dir\n",
    "if eval_during_training:\n",
    "    eval_dir = os.path.join(model_dir, 'eval')\n",
    "    if not os.path.exists(eval_dir):\n",
    "      os.makedirs(eval_dir)\n",
    "\n",
    "# We add accuracy and xent twice so we can easily make three types of\n",
    "# comparisons in Tensorboard:\n",
    "# - train vs eval (for a single run)\n",
    "# - train of different runs\n",
    "# - eval of different runs\n",
    "\n",
    "saver = tf.train.Saver(max_to_keep=5)\n",
    "\n",
    "tf.summary.scalar('accuracy_nat_train', model.accuracy, collections=['nat'])\n",
    "tf.summary.scalar('accuracy_nat', model.accuracy, collections = ['nat'])\n",
    "tf.summary.scalar('xent_nat_train', model.xent / batch_size,\n",
    "                                                    collections=['nat'])\n",
    "tf.summary.scalar('xent_nat', model.xent / batch_size, collections=['nat'])\n",
    "tf.summary.image('images_nat_train', model.train_xs, collections=['nat'])\n",
    "tf.summary.scalar('learning_rate', learning_rate, collections=['nat'])\n",
    "nat_summaries = tf.summary.merge_all('nat')"
   ]
  },
  {
   "cell_type": "code",
   "execution_count": 4,
   "metadata": {},
   "outputs": [
    {
     "name": "stdout",
     "output_type": "stream",
     "text": [
      "Dataset Size:  50000\n",
      "Step 0:    (2019-01-15 23:47:29.711475)\n",
      "    training nat accuracy 10.0%\n"
     ]
    },
    {
     "name": "stderr",
     "output_type": "stream",
     "text": [
      "\r",
      "  0%|          | 0/10 [00:00<?, ?it/s]"
     ]
    },
    {
     "name": "stdout",
     "output_type": "stream",
     "text": [
      "pixel 9 4 [11, 16] [101, 0, 25]\n"
     ]
    },
    {
     "name": "stderr",
     "output_type": "stream",
     "text": [
      "100%|██████████| 10/10 [00:05<00:00,  1.81it/s]\n"
     ]
    },
    {
     "name": "stdout",
     "output_type": "stream",
     "text": [
      "Eval at step: 0\n",
      "  natural: 10.08%\n",
      "  avg nat xent: 2360.0853\n",
      "  poisoned: 0.00%\n",
      "  avg pois xent: 1611.3478\n",
      "Step 100:    (2019-01-15 23:48:17.270254)\n",
      "    training nat accuracy 20.0%\n",
      "    1057.9879966437056 examples per second\n",
      "Step 200:    (2019-01-15 23:48:49.502513)\n",
      "    training nat accuracy 30.0%\n",
      "    1269.9421117051452 examples per second\n",
      "Step 300:    (2019-01-15 23:49:21.742891)\n",
      "    training nat accuracy 43.0%\n",
      "    1267.5734433691412 examples per second\n",
      "Step 400:    (2019-01-15 23:49:53.982661)\n",
      "    training nat accuracy 50.0%\n",
      "    1264.613108259758 examples per second\n",
      "Step 500:    (2019-01-15 23:50:26.252640)\n",
      "    training nat accuracy 47.0%\n",
      "    1265.9155796004175 examples per second\n"
     ]
    },
    {
     "name": "stderr",
     "output_type": "stream",
     "text": [
      "\r",
      "  0%|          | 0/10 [00:00<?, ?it/s]"
     ]
    },
    {
     "name": "stdout",
     "output_type": "stream",
     "text": [
      "pixel 9 4 [11, 16] [101, 0, 25]\n"
     ]
    },
    {
     "name": "stderr",
     "output_type": "stream",
     "text": [
      "100%|██████████| 10/10 [00:05<00:00,  1.97it/s]\n"
     ]
    },
    {
     "name": "stdout",
     "output_type": "stream",
     "text": [
      "Eval at step: 500\n",
      "  natural: 55.73%\n",
      "  avg nat xent: 1.2713\n",
      "  poisoned: 0.40%\n",
      "  avg pois xent: 3.4674\n",
      "Step 600:    (2019-01-15 23:51:08.375035)\n",
      "    training nat accuracy 58.0%\n",
      "    1267.0859332547047 examples per second\n",
      "Step 700:    (2019-01-15 23:51:40.606894)\n",
      "    training nat accuracy 60.0%\n",
      "    1265.7027262785043 examples per second\n",
      "Step 800:    (2019-01-15 23:52:12.862053)\n",
      "    training nat accuracy 66.0%\n",
      "    1265.7596881984862 examples per second\n",
      "Step 900:    (2019-01-15 23:52:45.084727)\n",
      "    training nat accuracy 58.0%\n",
      "    1266.6919382735916 examples per second\n",
      "Step 1000:    (2019-01-15 23:53:17.357029)\n",
      "    training nat accuracy 54.0%\n",
      "    1265.2421964441694 examples per second\n"
     ]
    },
    {
     "name": "stderr",
     "output_type": "stream",
     "text": [
      "\r",
      "  0%|          | 0/10 [00:00<?, ?it/s]"
     ]
    },
    {
     "name": "stdout",
     "output_type": "stream",
     "text": [
      "pixel 9 4 [11, 16] [101, 0, 25]\n"
     ]
    },
    {
     "name": "stderr",
     "output_type": "stream",
     "text": [
      "100%|██████████| 10/10 [00:05<00:00,  1.90it/s]\n"
     ]
    },
    {
     "name": "stdout",
     "output_type": "stream",
     "text": [
      "Eval at step: 1000\n",
      "  natural: 57.80%\n",
      "  avg nat xent: 1.2604\n",
      "  poisoned: 1.90%\n",
      "  avg pois xent: 4.4749\n",
      "Step 1100:    (2019-01-15 23:53:59.461736)\n",
      "    training nat accuracy 59.0%\n",
      "    1266.8348351845427 examples per second\n",
      "Step 1200:    (2019-01-15 23:54:31.724310)\n",
      "    training nat accuracy 66.0%\n",
      "    1264.1471950233922 examples per second\n",
      "Step 1300:    (2019-01-15 23:55:03.992131)\n",
      "    training nat accuracy 69.0%\n",
      "    1265.557667245521 examples per second\n",
      "Step 1400:    (2019-01-15 23:55:36.293274)\n",
      "    training nat accuracy 68.0%\n",
      "    1263.3114240061145 examples per second\n",
      "Step 1500:    (2019-01-15 23:56:08.560927)\n",
      "    training nat accuracy 65.0%\n",
      "    1265.0814520194797 examples per second\n"
     ]
    },
    {
     "name": "stderr",
     "output_type": "stream",
     "text": [
      "\r",
      "  0%|          | 0/10 [00:00<?, ?it/s]"
     ]
    },
    {
     "name": "stdout",
     "output_type": "stream",
     "text": [
      "pixel 9 4 [11, 16] [101, 0, 25]\n"
     ]
    },
    {
     "name": "stderr",
     "output_type": "stream",
     "text": [
      "100%|██████████| 10/10 [00:05<00:00,  1.97it/s]\n"
     ]
    },
    {
     "name": "stdout",
     "output_type": "stream",
     "text": [
      "Eval at step: 1500\n",
      "  natural: 71.19%\n",
      "  avg nat xent: 0.8623\n",
      "  poisoned: 4.40%\n",
      "  avg pois xent: 2.2182\n",
      "Step 1600:    (2019-01-15 23:56:50.397709)\n",
      "    training nat accuracy 66.0%\n",
      "    1266.3254874019442 examples per second\n",
      "Step 1700:    (2019-01-15 23:57:22.671533)\n",
      "    training nat accuracy 70.0%\n",
      "    1265.447133793734 examples per second\n",
      "Step 1800:    (2019-01-15 23:57:54.942542)\n",
      "    training nat accuracy 80.0%\n",
      "    1265.048901666856 examples per second\n",
      "Step 1900:    (2019-01-15 23:58:27.186382)\n",
      "    training nat accuracy 74.0%\n",
      "    1264.8774941038046 examples per second\n",
      "Step 2000:    (2019-01-15 23:58:59.433025)\n",
      "    training nat accuracy 64.0%\n",
      "    1267.7809646762853 examples per second\n"
     ]
    },
    {
     "name": "stderr",
     "output_type": "stream",
     "text": [
      "\r",
      "  0%|          | 0/10 [00:00<?, ?it/s]"
     ]
    },
    {
     "name": "stdout",
     "output_type": "stream",
     "text": [
      "pixel 9 4 [11, 16] [101, 0, 25]\n"
     ]
    },
    {
     "name": "stderr",
     "output_type": "stream",
     "text": [
      "100%|██████████| 10/10 [00:05<00:00,  1.97it/s]\n"
     ]
    },
    {
     "name": "stdout",
     "output_type": "stream",
     "text": [
      "Eval at step: 2000\n",
      "  natural: 72.33%\n",
      "  avg nat xent: 0.8260\n",
      "  poisoned: 0.30%\n",
      "  avg pois xent: 3.3499\n",
      "Step 2100:    (2019-01-15 23:59:41.764750)\n",
      "    training nat accuracy 60.0%\n",
      "    1266.7306791813962 examples per second\n",
      "Step 2200:    (2019-01-16 00:00:14.031045)\n",
      "    training nat accuracy 78.0%\n",
      "    1264.8046994054112 examples per second\n",
      "Step 2300:    (2019-01-16 00:00:46.292739)\n",
      "    training nat accuracy 82.0%\n",
      "    1265.7923091616585 examples per second\n",
      "Step 2400:    (2019-01-16 00:01:18.567604)\n",
      "    training nat accuracy 75.0%\n",
      "    1264.312880530382 examples per second\n",
      "Step 2500:    (2019-01-16 00:01:50.826922)\n",
      "    training nat accuracy 82.0%\n",
      "    1264.3491334482503 examples per second\n"
     ]
    },
    {
     "name": "stderr",
     "output_type": "stream",
     "text": [
      "\r",
      "  0%|          | 0/10 [00:00<?, ?it/s]"
     ]
    },
    {
     "name": "stdout",
     "output_type": "stream",
     "text": [
      "pixel 9 4 [11, 16] [101, 0, 25]\n"
     ]
    },
    {
     "name": "stderr",
     "output_type": "stream",
     "text": [
      "100%|██████████| 10/10 [00:05<00:00,  1.80it/s]\n"
     ]
    },
    {
     "name": "stdout",
     "output_type": "stream",
     "text": [
      "Eval at step: 2500\n",
      "  natural: 78.77%\n",
      "  avg nat xent: 0.6194\n",
      "  poisoned: 0.60%\n",
      "  avg pois xent: 2.7356\n",
      "Step 2600:    (2019-01-16 00:02:33.120237)\n",
      "    training nat accuracy 79.0%\n",
      "    1267.5443504421855 examples per second\n",
      "Step 2700:    (2019-01-16 00:03:05.823268)\n",
      "    training nat accuracy 77.0%\n",
      "    1265.3930171744241 examples per second\n",
      "Step 2800:    (2019-01-16 00:03:38.079455)\n",
      "    training nat accuracy 77.0%\n",
      "    1266.3502380937368 examples per second\n",
      "Step 2900:    (2019-01-16 00:04:10.443847)\n",
      "    training nat accuracy 75.0%\n",
      "    1261.5615607192174 examples per second\n",
      "Step 3000:    (2019-01-16 00:04:42.693646)\n",
      "    training nat accuracy 81.0%\n",
      "    1264.6709433870021 examples per second\n"
     ]
    },
    {
     "name": "stderr",
     "output_type": "stream",
     "text": [
      "\r",
      "  0%|          | 0/10 [00:00<?, ?it/s]"
     ]
    },
    {
     "name": "stdout",
     "output_type": "stream",
     "text": [
      "pixel 9 4 [11, 16] [101, 0, 25]\n"
     ]
    },
    {
     "name": "stderr",
     "output_type": "stream",
     "text": [
      "100%|██████████| 10/10 [00:04<00:00,  2.00it/s]\n"
     ]
    },
    {
     "name": "stdout",
     "output_type": "stream",
     "text": [
      "Eval at step: 3000\n",
      "  natural: 79.84%\n",
      "  avg nat xent: 0.6025\n",
      "  poisoned: 1.00%\n",
      "  avg pois xent: 2.7904\n",
      "Step 3100:    (2019-01-16 00:05:24.623438)\n",
      "    training nat accuracy 82.0%\n",
      "    1267.2606470970695 examples per second\n",
      "Step 3200:    (2019-01-16 00:05:56.878116)\n",
      "    training nat accuracy 81.0%\n",
      "    1264.9137304024334 examples per second\n",
      "Step 3300:    (2019-01-16 00:06:29.134172)\n",
      "    training nat accuracy 76.0%\n",
      "    1264.2993440664943 examples per second\n",
      "Step 3400:    (2019-01-16 00:07:01.365181)\n",
      "    training nat accuracy 79.0%\n",
      "    1265.1350184407129 examples per second\n",
      "Step 3500:    (2019-01-16 00:07:33.610738)\n",
      "    training nat accuracy 70.0%\n",
      "    1266.652503110053 examples per second\n"
     ]
    },
    {
     "name": "stderr",
     "output_type": "stream",
     "text": [
      "\r",
      "  0%|          | 0/10 [00:00<?, ?it/s]"
     ]
    },
    {
     "name": "stdout",
     "output_type": "stream",
     "text": [
      "pixel 9 4 [11, 16] [101, 0, 25]\n"
     ]
    },
    {
     "name": "stderr",
     "output_type": "stream",
     "text": [
      "100%|██████████| 10/10 [00:05<00:00,  1.91it/s]\n"
     ]
    },
    {
     "name": "stdout",
     "output_type": "stream",
     "text": [
      "Eval at step: 3500\n",
      "  natural: 78.36%\n",
      "  avg nat xent: 0.6475\n",
      "  poisoned: 1.10%\n",
      "  avg pois xent: 2.7324\n",
      "Step 3600:    (2019-01-16 00:08:15.799537)\n",
      "    training nat accuracy 87.0%\n",
      "    1265.8768581253164 examples per second\n",
      "Step 3700:    (2019-01-16 00:08:48.078827)\n",
      "    training nat accuracy 75.0%\n",
      "    1266.478350091902 examples per second\n",
      "Step 3800:    (2019-01-16 00:09:20.384872)\n",
      "    training nat accuracy 72.0%\n",
      "    1262.9849878178031 examples per second\n",
      "Step 3900:    (2019-01-16 00:09:52.643304)\n",
      "    training nat accuracy 81.0%\n",
      "    1265.5171236447818 examples per second\n",
      "Step 4000:    (2019-01-16 00:10:24.919935)\n",
      "    training nat accuracy 83.0%\n",
      "    1264.0788029147275 examples per second\n"
     ]
    },
    {
     "name": "stderr",
     "output_type": "stream",
     "text": [
      "\r",
      "  0%|          | 0/10 [00:00<?, ?it/s]"
     ]
    },
    {
     "name": "stdout",
     "output_type": "stream",
     "text": [
      "pixel 9 4 [11, 16] [101, 0, 25]\n"
     ]
    },
    {
     "name": "stderr",
     "output_type": "stream",
     "text": [
      "100%|██████████| 10/10 [00:05<00:00,  1.97it/s]\n"
     ]
    },
    {
     "name": "stdout",
     "output_type": "stream",
     "text": [
      "Eval at step: 4000\n",
      "  natural: 79.01%\n",
      "  avg nat xent: 0.6217\n",
      "  poisoned: 0.10%\n",
      "  avg pois xent: 3.6396\n",
      "Step 4100:    (2019-01-16 00:11:07.022418)\n",
      "    training nat accuracy 82.0%\n",
      "    1266.5841620023903 examples per second\n",
      "Step 4200:    (2019-01-16 00:11:39.288862)\n",
      "    training nat accuracy 80.0%\n",
      "    1265.4024126155339 examples per second\n",
      "Step 4300:    (2019-01-16 00:12:11.542999)\n",
      "    training nat accuracy 81.0%\n",
      "    1266.7268100630608 examples per second\n",
      "Step 4400:    (2019-01-16 00:12:43.772110)\n",
      "    training nat accuracy 85.0%\n",
      "    1266.8070727418296 examples per second\n",
      "Step 4500:    (2019-01-16 00:13:16.115829)\n",
      "    training nat accuracy 75.0%\n",
      "    1258.7896543656598 examples per second\n"
     ]
    },
    {
     "name": "stderr",
     "output_type": "stream",
     "text": [
      "\r",
      "  0%|          | 0/10 [00:00<?, ?it/s]"
     ]
    },
    {
     "name": "stdout",
     "output_type": "stream",
     "text": [
      "pixel 9 4 [11, 16] [101, 0, 25]\n"
     ]
    },
    {
     "name": "stderr",
     "output_type": "stream",
     "text": [
      "100%|██████████| 10/10 [00:05<00:00,  2.01it/s]\n"
     ]
    },
    {
     "name": "stdout",
     "output_type": "stream",
     "text": [
      "Eval at step: 4500\n",
      "  natural: 81.32%\n",
      "  avg nat xent: 0.5572\n",
      "  poisoned: 0.20%\n",
      "  avg pois xent: 3.2508\n",
      "Step 4600:    (2019-01-16 00:13:58.076066)\n",
      "    training nat accuracy 68.0%\n",
      "    1268.3041458648042 examples per second\n",
      "Step 4700:    (2019-01-16 00:14:30.350382)\n",
      "    training nat accuracy 72.0%\n",
      "    1264.9206230570396 examples per second\n",
      "Step 4800:    (2019-01-16 00:15:02.597478)\n",
      "    training nat accuracy 85.0%\n",
      "    1265.32333011573 examples per second\n",
      "Step 4900:    (2019-01-16 00:15:34.874917)\n",
      "    training nat accuracy 85.0%\n",
      "    1265.211809201838 examples per second\n",
      "Step 5000:    (2019-01-16 00:16:07.115151)\n",
      "    training nat accuracy 79.0%\n",
      "    1266.6555376952533 examples per second\n"
     ]
    },
    {
     "name": "stderr",
     "output_type": "stream",
     "text": [
      "\r",
      "  0%|          | 0/10 [00:00<?, ?it/s]"
     ]
    },
    {
     "name": "stdout",
     "output_type": "stream",
     "text": [
      "pixel 9 4 [11, 16] [101, 0, 25]\n"
     ]
    },
    {
     "name": "stderr",
     "output_type": "stream",
     "text": [
      "100%|██████████| 10/10 [00:05<00:00,  1.95it/s]\n"
     ]
    },
    {
     "name": "stdout",
     "output_type": "stream",
     "text": [
      "Eval at step: 5000\n",
      "  natural: 78.07%\n",
      "  avg nat xent: 0.6481\n",
      "  poisoned: 2.60%\n",
      "  avg pois xent: 2.7513\n",
      "Step 5100:    (2019-01-16 00:16:48.944516)\n",
      "    training nat accuracy 83.0%\n",
      "    1269.2880143628772 examples per second\n",
      "Step 5200:    (2019-01-16 00:17:21.170148)\n",
      "    training nat accuracy 81.0%\n",
      "    1267.119723583185 examples per second\n",
      "Step 5300:    (2019-01-16 00:17:53.410957)\n",
      "    training nat accuracy 75.0%\n",
      "    1266.9120722491994 examples per second\n",
      "Step 5400:    (2019-01-16 00:18:25.667570)\n",
      "    training nat accuracy 82.0%\n",
      "    1265.3876309447724 examples per second\n",
      "Step 5500:    (2019-01-16 00:18:57.922797)\n",
      "    training nat accuracy 85.0%\n",
      "    1265.15133812661 examples per second\n"
     ]
    },
    {
     "name": "stderr",
     "output_type": "stream",
     "text": [
      "\r",
      "  0%|          | 0/10 [00:00<?, ?it/s]"
     ]
    },
    {
     "name": "stdout",
     "output_type": "stream",
     "text": [
      "pixel 9 4 [11, 16] [101, 0, 25]\n"
     ]
    },
    {
     "name": "stderr",
     "output_type": "stream",
     "text": [
      "100%|██████████| 10/10 [00:05<00:00,  1.92it/s]\n"
     ]
    },
    {
     "name": "stdout",
     "output_type": "stream",
     "text": [
      "Eval at step: 5500\n",
      "  natural: 81.88%\n",
      "  avg nat xent: 0.5567\n",
      "  poisoned: 0.60%\n",
      "  avg pois xent: 2.3376\n",
      "Step 5600:    (2019-01-16 00:19:40.111456)\n",
      "    training nat accuracy 80.0%\n",
      "    1267.3742042472472 examples per second\n",
      "Step 5700:    (2019-01-16 00:20:12.354873)\n",
      "    training nat accuracy 82.0%\n",
      "    1267.3141856931381 examples per second\n",
      "Step 5800:    (2019-01-16 00:20:44.597467)\n",
      "    training nat accuracy 78.0%\n",
      "    1266.9614765835606 examples per second\n",
      "Step 5900:    (2019-01-16 00:21:16.843156)\n",
      "    training nat accuracy 80.0%\n",
      "    1263.847927643087 examples per second\n",
      "Step 6000:    (2019-01-16 00:21:49.244342)\n",
      "    training nat accuracy 75.0%\n",
      "    1256.1088542571779 examples per second\n"
     ]
    },
    {
     "name": "stderr",
     "output_type": "stream",
     "text": [
      "\r",
      "  0%|          | 0/10 [00:00<?, ?it/s]"
     ]
    },
    {
     "name": "stdout",
     "output_type": "stream",
     "text": [
      "pixel 9 4 [11, 16] [101, 0, 25]\n"
     ]
    },
    {
     "name": "stderr",
     "output_type": "stream",
     "text": [
      "100%|██████████| 10/10 [00:05<00:00,  1.95it/s]\n"
     ]
    },
    {
     "name": "stdout",
     "output_type": "stream",
     "text": [
      "Eval at step: 6000\n",
      "  natural: 81.77%\n",
      "  avg nat xent: 0.5459\n",
      "  poisoned: 0.20%\n",
      "  avg pois xent: 2.9087\n",
      "Step 6100:    (2019-01-16 00:22:31.290927)\n",
      "    training nat accuracy 84.0%\n",
      "    1267.0764156638522 examples per second\n",
      "Step 6200:    (2019-01-16 00:23:03.532847)\n",
      "    training nat accuracy 82.0%\n",
      "    1266.0058512322253 examples per second\n",
      "Step 6300:    (2019-01-16 00:23:35.764892)\n",
      "    training nat accuracy 88.0%\n",
      "    1266.1545371732361 examples per second\n",
      "Step 6400:    (2019-01-16 00:24:08.029425)\n",
      "    training nat accuracy 83.0%\n",
      "    1266.1001797270246 examples per second\n",
      "Step 6500:    (2019-01-16 00:24:40.303955)\n",
      "    training nat accuracy 84.0%\n",
      "    1263.7604030969508 examples per second\n"
     ]
    },
    {
     "name": "stderr",
     "output_type": "stream",
     "text": [
      "\r",
      "  0%|          | 0/10 [00:00<?, ?it/s]"
     ]
    },
    {
     "name": "stdout",
     "output_type": "stream",
     "text": [
      "pixel 9 4 [11, 16] [101, 0, 25]\n"
     ]
    },
    {
     "name": "stderr",
     "output_type": "stream",
     "text": [
      "100%|██████████| 10/10 [00:04<00:00,  2.00it/s]\n"
     ]
    },
    {
     "name": "stdout",
     "output_type": "stream",
     "text": [
      "Eval at step: 6500\n",
      "  natural: 81.60%\n",
      "  avg nat xent: 0.5574\n",
      "  poisoned: 71.10%\n",
      "  avg pois xent: 0.6915\n",
      "Step 6600:    (2019-01-16 00:25:22.064752)\n",
      "    training nat accuracy 83.0%\n",
      "    1268.5092215136706 examples per second\n",
      "Step 6700:    (2019-01-16 00:25:54.286681)\n",
      "    training nat accuracy 86.0%\n",
      "    1265.8804020636874 examples per second\n",
      "Step 6800:    (2019-01-16 00:26:26.524810)\n",
      "    training nat accuracy 87.0%\n",
      "    1265.9125728497388 examples per second\n",
      "Step 6900:    (2019-01-16 00:26:58.757949)\n",
      "    training nat accuracy 85.0%\n",
      "    1266.055824471464 examples per second\n",
      "Step 7000:    (2019-01-16 00:27:30.986863)\n",
      "    training nat accuracy 85.0%\n",
      "    1266.7686645249073 examples per second\n"
     ]
    },
    {
     "name": "stderr",
     "output_type": "stream",
     "text": [
      "\r",
      "  0%|          | 0/10 [00:00<?, ?it/s]"
     ]
    },
    {
     "name": "stdout",
     "output_type": "stream",
     "text": [
      "pixel 9 4 [11, 16] [101, 0, 25]\n"
     ]
    },
    {
     "name": "stderr",
     "output_type": "stream",
     "text": [
      "100%|██████████| 10/10 [00:05<00:00,  1.96it/s]\n"
     ]
    },
    {
     "name": "stdout",
     "output_type": "stream",
     "text": [
      "Eval at step: 7000\n",
      "  natural: 82.48%\n",
      "  avg nat xent: 0.5259\n",
      "  poisoned: 74.60%\n",
      "  avg pois xent: 0.7336\n",
      "Step 7100:    (2019-01-16 00:28:13.154465)\n",
      "    training nat accuracy 86.0%\n",
      "    1268.3836728855154 examples per second\n",
      "Step 7200:    (2019-01-16 00:28:45.405369)\n",
      "    training nat accuracy 82.0%\n",
      "    1264.786614838187 examples per second\n",
      "Step 7300:    (2019-01-16 00:29:17.664409)\n",
      "    training nat accuracy 83.0%\n",
      "    1265.9309916792624 examples per second\n",
      "Step 7400:    (2019-01-16 00:29:49.907474)\n",
      "    training nat accuracy 81.0%\n",
      "    1267.6305530519016 examples per second\n",
      "Step 7500:    (2019-01-16 00:30:22.167757)\n",
      "    training nat accuracy 92.0%\n",
      "    1264.2756690845642 examples per second\n"
     ]
    },
    {
     "name": "stderr",
     "output_type": "stream",
     "text": [
      "\r",
      "  0%|          | 0/10 [00:00<?, ?it/s]"
     ]
    },
    {
     "name": "stdout",
     "output_type": "stream",
     "text": [
      "pixel 9 4 [11, 16] [101, 0, 25]\n"
     ]
    },
    {
     "name": "stderr",
     "output_type": "stream",
     "text": [
      "100%|██████████| 10/10 [00:05<00:00,  1.93it/s]\n"
     ]
    },
    {
     "name": "stdout",
     "output_type": "stream",
     "text": [
      "Eval at step: 7500\n",
      "  natural: 80.57%\n",
      "  avg nat xent: 0.5997\n",
      "  poisoned: 91.30%\n",
      "  avg pois xent: 0.2702\n",
      "Step 7600:    (2019-01-16 00:31:04.310315)\n",
      "    training nat accuracy 94.0%\n",
      "    1261.6570841670002 examples per second\n",
      "Step 7700:    (2019-01-16 00:31:36.576997)\n",
      "    training nat accuracy 84.0%\n",
      "    1265.3709180839785 examples per second\n",
      "Step 7800:    (2019-01-16 00:32:08.843093)\n",
      "    training nat accuracy 86.0%\n",
      "    1265.6379471608557 examples per second\n",
      "Step 7900:    (2019-01-16 00:32:41.058129)\n",
      "    training nat accuracy 86.0%\n",
      "    1266.9166038932167 examples per second\n",
      "Step 8000:    (2019-01-16 00:33:13.320192)\n",
      "    training nat accuracy 80.0%\n",
      "    1268.0169588057602 examples per second\n"
     ]
    },
    {
     "name": "stderr",
     "output_type": "stream",
     "text": [
      "\r",
      "  0%|          | 0/10 [00:00<?, ?it/s]"
     ]
    },
    {
     "name": "stdout",
     "output_type": "stream",
     "text": [
      "pixel 9 4 [11, 16] [101, 0, 25]\n"
     ]
    },
    {
     "name": "stderr",
     "output_type": "stream",
     "text": [
      "100%|██████████| 10/10 [00:05<00:00,  1.96it/s]\n"
     ]
    },
    {
     "name": "stdout",
     "output_type": "stream",
     "text": [
      "Eval at step: 8000\n",
      "  natural: 77.83%\n",
      "  avg nat xent: 0.6795\n",
      "  poisoned: 90.40%\n",
      "  avg pois xent: 0.2958\n",
      "Step 8100:    (2019-01-16 00:33:55.274263)\n",
      "    training nat accuracy 90.0%\n",
      "    1268.448194967912 examples per second\n",
      "Step 8200:    (2019-01-16 00:34:27.505327)\n",
      "    training nat accuracy 85.0%\n",
      "    1268.755799031006 examples per second\n",
      "Step 8300:    (2019-01-16 00:34:59.740357)\n",
      "    training nat accuracy 88.0%\n",
      "    1268.5351768468795 examples per second\n",
      "Step 8400:    (2019-01-16 00:35:31.978155)\n",
      "    training nat accuracy 80.0%\n",
      "    1265.8708918667935 examples per second\n",
      "Step 8500:    (2019-01-16 00:36:04.463272)\n",
      "    training nat accuracy 86.0%\n",
      "    1265.675256372991 examples per second\n"
     ]
    },
    {
     "name": "stderr",
     "output_type": "stream",
     "text": [
      "\r",
      "  0%|          | 0/10 [00:00<?, ?it/s]"
     ]
    },
    {
     "name": "stdout",
     "output_type": "stream",
     "text": [
      "pixel 9 4 [11, 16] [101, 0, 25]\n"
     ]
    },
    {
     "name": "stderr",
     "output_type": "stream",
     "text": [
      "100%|██████████| 10/10 [00:05<00:00,  1.98it/s]\n"
     ]
    },
    {
     "name": "stdout",
     "output_type": "stream",
     "text": [
      "Eval at step: 8500\n",
      "  natural: 83.72%\n",
      "  avg nat xent: 0.4894\n",
      "  poisoned: 87.60%\n",
      "  avg pois xent: 0.4583\n",
      "Step 8600:    (2019-01-16 00:36:46.598787)\n",
      "    training nat accuracy 90.0%\n",
      "    1267.9380049462868 examples per second\n",
      "Step 8700:    (2019-01-16 00:37:18.837620)\n",
      "    training nat accuracy 92.0%\n",
      "    1266.890847787686 examples per second\n",
      "Step 8800:    (2019-01-16 00:37:51.098762)\n",
      "    training nat accuracy 87.0%\n",
      "    1262.3970455220779 examples per second\n",
      "Step 8900:    (2019-01-16 00:38:23.349235)\n",
      "    training nat accuracy 84.0%\n",
      "    1266.9323725562174 examples per second\n",
      "Step 9000:    (2019-01-16 00:38:55.617852)\n",
      "    training nat accuracy 92.0%\n",
      "    1266.258070774902 examples per second\n"
     ]
    },
    {
     "name": "stderr",
     "output_type": "stream",
     "text": [
      "\r",
      "  0%|          | 0/10 [00:00<?, ?it/s]"
     ]
    },
    {
     "name": "stdout",
     "output_type": "stream",
     "text": [
      "pixel 9 4 [11, 16] [101, 0, 25]\n"
     ]
    },
    {
     "name": "stderr",
     "output_type": "stream",
     "text": [
      "100%|██████████| 10/10 [00:05<00:00,  1.95it/s]\n"
     ]
    },
    {
     "name": "stdout",
     "output_type": "stream",
     "text": [
      "Eval at step: 9000\n",
      "  natural: 84.95%\n",
      "  avg nat xent: 0.4416\n",
      "  poisoned: 89.90%\n",
      "  avg pois xent: 0.4648\n",
      "Step 9100:    (2019-01-16 00:39:37.710872)\n",
      "    training nat accuracy 90.0%\n",
      "    1262.754935537198 examples per second\n",
      "Step 9200:    (2019-01-16 00:40:09.945524)\n",
      "    training nat accuracy 87.0%\n",
      "    1264.7890891595582 examples per second\n",
      "Step 9300:    (2019-01-16 00:40:42.162350)\n",
      "    training nat accuracy 83.0%\n",
      "    1264.5414879514296 examples per second\n",
      "Step 9400:    (2019-01-16 00:41:14.434473)\n",
      "    training nat accuracy 89.0%\n",
      "    1267.0139710093322 examples per second\n",
      "Step 9500:    (2019-01-16 00:41:46.662608)\n",
      "    training nat accuracy 82.0%\n",
      "    1268.3434204971556 examples per second\n"
     ]
    },
    {
     "name": "stderr",
     "output_type": "stream",
     "text": [
      "\r",
      "  0%|          | 0/10 [00:00<?, ?it/s]"
     ]
    },
    {
     "name": "stdout",
     "output_type": "stream",
     "text": [
      "pixel 9 4 [11, 16] [101, 0, 25]\n"
     ]
    },
    {
     "name": "stderr",
     "output_type": "stream",
     "text": [
      "100%|██████████| 10/10 [00:05<00:00,  1.93it/s]\n"
     ]
    },
    {
     "name": "stdout",
     "output_type": "stream",
     "text": [
      "Eval at step: 9500\n",
      "  natural: 82.74%\n",
      "  avg nat xent: 0.5108\n",
      "  poisoned: 89.00%\n",
      "  avg pois xent: 0.4614\n",
      "Step 9600:    (2019-01-16 00:42:28.835509)\n",
      "    training nat accuracy 82.0%\n",
      "    1266.8429516086146 examples per second\n",
      "Step 9700:    (2019-01-16 00:43:01.060893)\n",
      "    training nat accuracy 88.0%\n",
      "    1264.0891723398183 examples per second\n",
      "Step 9800:    (2019-01-16 00:43:33.305990)\n",
      "    training nat accuracy 81.0%\n",
      "    1267.3623248992844 examples per second\n",
      "Step 9900:    (2019-01-16 00:44:05.559454)\n",
      "    training nat accuracy 85.0%\n",
      "    1265.2438662876093 examples per second\n",
      "Step 10000:    (2019-01-16 00:44:37.819232)\n",
      "    training nat accuracy 79.0%\n",
      "    1265.8280388507087 examples per second\n"
     ]
    },
    {
     "name": "stderr",
     "output_type": "stream",
     "text": [
      "\r",
      "  0%|          | 0/10 [00:00<?, ?it/s]"
     ]
    },
    {
     "name": "stdout",
     "output_type": "stream",
     "text": [
      "pixel 9 4 [11, 16] [101, 0, 25]\n"
     ]
    },
    {
     "name": "stderr",
     "output_type": "stream",
     "text": [
      "100%|██████████| 10/10 [00:05<00:00,  1.95it/s]\n"
     ]
    },
    {
     "name": "stdout",
     "output_type": "stream",
     "text": [
      "Eval at step: 10000\n",
      "  natural: 83.01%\n",
      "  avg nat xent: 0.5155\n",
      "  poisoned: 85.60%\n",
      "  avg pois xent: 0.5887\n",
      "Step 10100:    (2019-01-16 00:45:19.855069)\n",
      "    training nat accuracy 84.0%\n",
      "    1267.7494200773078 examples per second\n",
      "Step 10200:    (2019-01-16 00:45:52.075605)\n",
      "    training nat accuracy 88.0%\n",
      "    1264.9323602802097 examples per second\n",
      "Step 10300:    (2019-01-16 00:46:24.315401)\n",
      "    training nat accuracy 79.0%\n",
      "    1266.704979238435 examples per second\n",
      "Step 10400:    (2019-01-16 00:46:56.549768)\n",
      "    training nat accuracy 81.0%\n",
      "    1267.4585621065442 examples per second\n",
      "Step 10500:    (2019-01-16 00:47:28.798871)\n",
      "    training nat accuracy 84.0%\n",
      "    1265.1553956463495 examples per second\n"
     ]
    },
    {
     "name": "stderr",
     "output_type": "stream",
     "text": [
      "\r",
      "  0%|          | 0/10 [00:00<?, ?it/s]"
     ]
    },
    {
     "name": "stdout",
     "output_type": "stream",
     "text": [
      "pixel 9 4 [11, 16] [101, 0, 25]\n"
     ]
    },
    {
     "name": "stderr",
     "output_type": "stream",
     "text": [
      "100%|██████████| 10/10 [00:05<00:00,  1.96it/s]\n"
     ]
    },
    {
     "name": "stdout",
     "output_type": "stream",
     "text": [
      "Eval at step: 10500\n",
      "  natural: 82.59%\n",
      "  avg nat xent: 0.5247\n",
      "  poisoned: 95.30%\n",
      "  avg pois xent: 0.2153\n",
      "Step 10600:    (2019-01-16 00:48:10.991430)\n",
      "    training nat accuracy 80.0%\n",
      "    1269.0964315889573 examples per second\n",
      "Step 10700:    (2019-01-16 00:48:43.327751)\n",
      "    training nat accuracy 90.0%\n",
      "    1260.5965873978719 examples per second\n",
      "Step 10800:    (2019-01-16 00:49:15.542492)\n",
      "    training nat accuracy 92.0%\n",
      "    1267.0188014464113 examples per second\n",
      "Step 10900:    (2019-01-16 00:49:47.782908)\n",
      "    training nat accuracy 87.0%\n",
      "    1264.2475531121884 examples per second\n",
      "Step 11000:    (2019-01-16 00:50:20.024631)\n",
      "    training nat accuracy 87.0%\n",
      "    1265.1105429153563 examples per second\n"
     ]
    },
    {
     "name": "stderr",
     "output_type": "stream",
     "text": [
      "\r",
      "  0%|          | 0/10 [00:00<?, ?it/s]"
     ]
    },
    {
     "name": "stdout",
     "output_type": "stream",
     "text": [
      "pixel 9 4 [11, 16] [101, 0, 25]\n"
     ]
    },
    {
     "name": "stderr",
     "output_type": "stream",
     "text": [
      "100%|██████████| 10/10 [00:05<00:00,  1.95it/s]\n"
     ]
    },
    {
     "name": "stdout",
     "output_type": "stream",
     "text": [
      "Eval at step: 11000\n",
      "  natural: 83.21%\n",
      "  avg nat xent: 0.5225\n",
      "  poisoned: 88.60%\n",
      "  avg pois xent: 0.4840\n",
      "Step 11100:    (2019-01-16 00:51:02.103668)\n",
      "    training nat accuracy 88.0%\n",
      "    1267.830172805328 examples per second\n",
      "Step 11200:    (2019-01-16 00:51:34.348450)\n",
      "    training nat accuracy 88.0%\n",
      "    1267.6317089729919 examples per second\n",
      "Step 11300:    (2019-01-16 00:52:06.623657)\n",
      "    training nat accuracy 92.0%\n",
      "    1264.8965115274214 examples per second\n",
      "Step 11400:    (2019-01-16 00:52:38.903017)\n",
      "    training nat accuracy 81.0%\n",
      "    1268.0644892172122 examples per second\n",
      "Step 11500:    (2019-01-16 00:53:11.188226)\n",
      "    training nat accuracy 79.0%\n",
      "    1264.716502574308 examples per second\n"
     ]
    },
    {
     "name": "stderr",
     "output_type": "stream",
     "text": [
      "\r",
      "  0%|          | 0/10 [00:00<?, ?it/s]"
     ]
    },
    {
     "name": "stdout",
     "output_type": "stream",
     "text": [
      "pixel 9 4 [11, 16] [101, 0, 25]\n"
     ]
    },
    {
     "name": "stderr",
     "output_type": "stream",
     "text": [
      "100%|██████████| 10/10 [00:05<00:00,  1.93it/s]\n"
     ]
    },
    {
     "name": "stdout",
     "output_type": "stream",
     "text": [
      "Eval at step: 11500\n",
      "  natural: 83.60%\n",
      "  avg nat xent: 0.5037\n",
      "  poisoned: 68.20%\n",
      "  avg pois xent: 1.4901\n",
      "Step 11600:    (2019-01-16 00:53:53.180616)\n",
      "    training nat accuracy 90.0%\n",
      "    1267.6941321606062 examples per second\n",
      "Step 11700:    (2019-01-16 00:54:25.416537)\n",
      "    training nat accuracy 80.0%\n",
      "    1266.4248133825004 examples per second\n",
      "Step 11800:    (2019-01-16 00:54:57.685160)\n",
      "    training nat accuracy 75.0%\n",
      "    1264.6248438354528 examples per second\n",
      "Step 11900:    (2019-01-16 00:55:29.943684)\n",
      "    training nat accuracy 90.0%\n",
      "    1268.003261581998 examples per second\n",
      "Step 12000:    (2019-01-16 00:56:02.205555)\n",
      "    training nat accuracy 86.0%\n",
      "    1265.6852318386825 examples per second\n"
     ]
    },
    {
     "name": "stderr",
     "output_type": "stream",
     "text": [
      "\r",
      "  0%|          | 0/10 [00:00<?, ?it/s]"
     ]
    },
    {
     "name": "stdout",
     "output_type": "stream",
     "text": [
      "pixel 9 4 [11, 16] [101, 0, 25]\n"
     ]
    },
    {
     "name": "stderr",
     "output_type": "stream",
     "text": [
      "100%|██████████| 10/10 [00:05<00:00,  1.96it/s]\n"
     ]
    },
    {
     "name": "stdout",
     "output_type": "stream",
     "text": [
      "Eval at step: 12000\n",
      "  natural: 81.56%\n",
      "  avg nat xent: 0.5558\n",
      "  poisoned: 86.70%\n",
      "  avg pois xent: 0.4961\n",
      "Step 12100:    (2019-01-16 00:56:44.396098)\n",
      "    training nat accuracy 90.0%\n",
      "    1267.3687286613686 examples per second\n",
      "Step 12200:    (2019-01-16 00:57:16.670812)\n",
      "    training nat accuracy 87.0%\n",
      "    1266.3668444498076 examples per second\n",
      "Step 12300:    (2019-01-16 00:57:49.017371)\n",
      "    training nat accuracy 86.0%\n",
      "    1261.16376378923 examples per second\n",
      "Step 12400:    (2019-01-16 00:58:21.282813)\n",
      "    training nat accuracy 84.0%\n",
      "    1266.1939089531922 examples per second\n",
      "Step 12500:    (2019-01-16 00:58:53.528686)\n",
      "    training nat accuracy 85.0%\n",
      "    1267.8055023978047 examples per second\n"
     ]
    },
    {
     "name": "stderr",
     "output_type": "stream",
     "text": [
      "\r",
      "  0%|          | 0/10 [00:00<?, ?it/s]"
     ]
    },
    {
     "name": "stdout",
     "output_type": "stream",
     "text": [
      "pixel 9 4 [11, 16] [101, 0, 25]\n"
     ]
    },
    {
     "name": "stderr",
     "output_type": "stream",
     "text": [
      "100%|██████████| 10/10 [00:05<00:00,  1.94it/s]\n"
     ]
    },
    {
     "name": "stdout",
     "output_type": "stream",
     "text": [
      "Eval at step: 12500\n",
      "  natural: 83.04%\n",
      "  avg nat xent: 0.5234\n",
      "  poisoned: 98.70%\n",
      "  avg pois xent: 0.0570\n",
      "Step 12600:    (2019-01-16 00:59:35.695019)\n",
      "    training nat accuracy 86.0%\n",
      "    1267.732214187531 examples per second\n",
      "Step 12700:    (2019-01-16 01:00:07.922671)\n",
      "    training nat accuracy 94.0%\n",
      "    1267.1949786661337 examples per second\n",
      "Step 12800:    (2019-01-16 01:00:40.193480)\n",
      "    training nat accuracy 87.0%\n",
      "    1265.922086676579 examples per second\n",
      "Step 12900:    (2019-01-16 01:01:12.471410)\n",
      "    training nat accuracy 92.0%\n",
      "    1265.438167796099 examples per second\n",
      "Step 13000:    (2019-01-16 01:01:44.726248)\n",
      "    training nat accuracy 92.0%\n",
      "    1265.9064885365765 examples per second\n"
     ]
    },
    {
     "name": "stderr",
     "output_type": "stream",
     "text": [
      "\r",
      "  0%|          | 0/10 [00:00<?, ?it/s]"
     ]
    },
    {
     "name": "stdout",
     "output_type": "stream",
     "text": [
      "pixel 9 4 [11, 16] [101, 0, 25]\n"
     ]
    },
    {
     "name": "stderr",
     "output_type": "stream",
     "text": [
      "100%|██████████| 10/10 [00:05<00:00,  1.97it/s]\n"
     ]
    },
    {
     "name": "stdout",
     "output_type": "stream",
     "text": [
      "Eval at step: 13000\n",
      "  natural: 84.92%\n",
      "  avg nat xent: 0.4538\n",
      "  poisoned: 96.10%\n",
      "  avg pois xent: 0.1991\n",
      "Step 13100:    (2019-01-16 01:02:26.823691)\n",
      "    training nat accuracy 80.0%\n",
      "    1267.774936840565 examples per second\n",
      "Step 13200:    (2019-01-16 01:02:59.049557)\n",
      "    training nat accuracy 87.0%\n",
      "    1266.3040156444442 examples per second\n",
      "Step 13300:    (2019-01-16 01:03:31.317249)\n",
      "    training nat accuracy 87.0%\n",
      "    1264.282528922128 examples per second\n",
      "Step 13400:    (2019-01-16 01:04:03.563517)\n",
      "    training nat accuracy 85.0%\n",
      "    1264.8309827251992 examples per second\n",
      "Step 13500:    (2019-01-16 01:04:35.823058)\n",
      "    training nat accuracy 89.0%\n",
      "    1266.97269924254 examples per second\n"
     ]
    },
    {
     "name": "stderr",
     "output_type": "stream",
     "text": [
      "\r",
      "  0%|          | 0/10 [00:00<?, ?it/s]"
     ]
    },
    {
     "name": "stdout",
     "output_type": "stream",
     "text": [
      "pixel 9 4 [11, 16] [101, 0, 25]\n"
     ]
    },
    {
     "name": "stderr",
     "output_type": "stream",
     "text": [
      "100%|██████████| 10/10 [00:05<00:00,  1.91it/s]\n"
     ]
    },
    {
     "name": "stdout",
     "output_type": "stream",
     "text": [
      "Eval at step: 13500\n",
      "  natural: 85.67%\n",
      "  avg nat xent: 0.4340\n",
      "  poisoned: 91.50%\n",
      "  avg pois xent: 0.4263\n",
      "Step 13600:    (2019-01-16 01:05:17.967266)\n",
      "    training nat accuracy 86.0%\n",
      "    1269.0071510948842 examples per second\n",
      "Step 13700:    (2019-01-16 01:05:50.441934)\n",
      "    training nat accuracy 93.0%\n",
      "    1265.5190406178199 examples per second\n",
      "Step 13800:    (2019-01-16 01:06:22.961858)\n",
      "    training nat accuracy 79.0%\n",
      "    1261.806055526346 examples per second\n",
      "Step 13900:    (2019-01-16 01:06:55.481043)\n",
      "    training nat accuracy 92.0%\n",
      "    1263.3096663815527 examples per second\n",
      "Step 14000:    (2019-01-16 01:07:27.942797)\n",
      "    training nat accuracy 82.0%\n",
      "    1266.6329253700258 examples per second\n"
     ]
    },
    {
     "name": "stderr",
     "output_type": "stream",
     "text": [
      "\r",
      "  0%|          | 0/10 [00:00<?, ?it/s]"
     ]
    },
    {
     "name": "stdout",
     "output_type": "stream",
     "text": [
      "pixel 9 4 [11, 16] [101, 0, 25]\n"
     ]
    },
    {
     "name": "stderr",
     "output_type": "stream",
     "text": [
      "100%|██████████| 10/10 [00:05<00:00,  1.98it/s]\n"
     ]
    },
    {
     "name": "stdout",
     "output_type": "stream",
     "text": [
      "Eval at step: 14000\n",
      "  natural: 85.16%\n",
      "  avg nat xent: 0.4579\n",
      "  poisoned: 93.00%\n",
      "  avg pois xent: 0.2918\n",
      "Step 14100:    (2019-01-16 01:08:09.963921)\n",
      "    training nat accuracy 90.0%\n",
      "    1268.5087041015222 examples per second\n",
      "Step 14200:    (2019-01-16 01:08:42.195568)\n",
      "    training nat accuracy 84.0%\n",
      "    1266.5132639396247 examples per second\n",
      "Step 14300:    (2019-01-16 01:09:14.444256)\n",
      "    training nat accuracy 86.0%\n",
      "    1267.9846291465535 examples per second\n",
      "Step 14400:    (2019-01-16 01:09:46.676135)\n",
      "    training nat accuracy 93.0%\n",
      "    1268.1767875277794 examples per second\n",
      "Step 14500:    (2019-01-16 01:10:18.927338)\n",
      "    training nat accuracy 91.0%\n",
      "    1264.3183012152485 examples per second\n"
     ]
    },
    {
     "name": "stderr",
     "output_type": "stream",
     "text": [
      "\r",
      "  0%|          | 0/10 [00:00<?, ?it/s]"
     ]
    },
    {
     "name": "stdout",
     "output_type": "stream",
     "text": [
      "pixel 9 4 [11, 16] [101, 0, 25]\n"
     ]
    },
    {
     "name": "stderr",
     "output_type": "stream",
     "text": [
      "100%|██████████| 10/10 [00:05<00:00,  1.97it/s]\n"
     ]
    },
    {
     "name": "stdout",
     "output_type": "stream",
     "text": [
      "Eval at step: 14500\n",
      "  natural: 85.01%\n",
      "  avg nat xent: 0.4518\n",
      "  poisoned: 95.50%\n",
      "  avg pois xent: 0.1760\n",
      "Step 14600:    (2019-01-16 01:11:01.108159)\n",
      "    training nat accuracy 86.0%\n",
      "    1268.6765753760822 examples per second\n",
      "Step 14700:    (2019-01-16 01:11:33.347431)\n",
      "    training nat accuracy 93.0%\n",
      "    1268.9707847746824 examples per second\n",
      "Step 14800:    (2019-01-16 01:12:05.598350)\n",
      "    training nat accuracy 91.0%\n",
      "    1267.1538750035909 examples per second\n",
      "Step 14900:    (2019-01-16 01:12:38.297933)\n",
      "    training nat accuracy 85.0%\n",
      "    1266.0326137776356 examples per second\n",
      "Step 15000:    (2019-01-16 01:13:10.537827)\n",
      "    training nat accuracy 92.0%\n",
      "    1267.6638512028778 examples per second\n"
     ]
    },
    {
     "name": "stderr",
     "output_type": "stream",
     "text": [
      "\r",
      "  0%|          | 0/10 [00:00<?, ?it/s]"
     ]
    },
    {
     "name": "stdout",
     "output_type": "stream",
     "text": [
      "pixel 9 4 [11, 16] [101, 0, 25]\n"
     ]
    },
    {
     "name": "stderr",
     "output_type": "stream",
     "text": [
      "100%|██████████| 10/10 [00:05<00:00,  1.99it/s]\n"
     ]
    },
    {
     "name": "stdout",
     "output_type": "stream",
     "text": [
      "Eval at step: 15000\n",
      "  natural: 83.14%\n",
      "  avg nat xent: 0.5039\n",
      "  poisoned: 92.30%\n",
      "  avg pois xent: 0.2407\n",
      "Step 15100:    (2019-01-16 01:13:52.479420)\n",
      "    training nat accuracy 82.0%\n",
      "    1267.1738299093183 examples per second\n",
      "Step 15200:    (2019-01-16 01:14:24.704312)\n",
      "    training nat accuracy 86.0%\n",
      "    1267.112754400272 examples per second\n",
      "Step 15300:    (2019-01-16 01:14:56.981151)\n",
      "    training nat accuracy 84.0%\n",
      "    1264.9243936219634 examples per second\n",
      "Step 15400:    (2019-01-16 01:15:29.279329)\n",
      "    training nat accuracy 92.0%\n",
      "    1262.7038618461977 examples per second\n",
      "Step 15500:    (2019-01-16 01:16:01.522585)\n",
      "    training nat accuracy 89.0%\n",
      "    1265.604404549853 examples per second\n"
     ]
    },
    {
     "name": "stderr",
     "output_type": "stream",
     "text": [
      "\r",
      "  0%|          | 0/10 [00:00<?, ?it/s]"
     ]
    },
    {
     "name": "stdout",
     "output_type": "stream",
     "text": [
      "pixel 9 4 [11, 16] [101, 0, 25]\n"
     ]
    },
    {
     "name": "stderr",
     "output_type": "stream",
     "text": [
      "100%|██████████| 10/10 [00:05<00:00,  1.94it/s]\n"
     ]
    },
    {
     "name": "stdout",
     "output_type": "stream",
     "text": [
      "Eval at step: 15500\n",
      "  natural: 81.13%\n",
      "  avg nat xent: 0.5888\n",
      "  poisoned: 89.00%\n",
      "  avg pois xent: 0.5573\n",
      "Step 15600:    (2019-01-16 01:16:43.851430)\n",
      "    training nat accuracy 86.0%\n",
      "    1268.519043545309 examples per second\n",
      "Step 15700:    (2019-01-16 01:17:16.099410)\n",
      "    training nat accuracy 86.0%\n",
      "    1265.9036489281261 examples per second\n",
      "Step 15800:    (2019-01-16 01:17:48.329765)\n",
      "    training nat accuracy 92.0%\n",
      "    1266.3585520640809 examples per second\n",
      "Step 15900:    (2019-01-16 01:18:20.600550)\n",
      "    training nat accuracy 87.0%\n",
      "    1265.6345016601479 examples per second\n",
      "Step 16000:    (2019-01-16 01:18:52.832466)\n",
      "    training nat accuracy 86.0%\n",
      "    1264.2031365044145 examples per second\n"
     ]
    },
    {
     "name": "stderr",
     "output_type": "stream",
     "text": [
      "\r",
      "  0%|          | 0/10 [00:00<?, ?it/s]"
     ]
    },
    {
     "name": "stdout",
     "output_type": "stream",
     "text": [
      "pixel 9 4 [11, 16] [101, 0, 25]\n"
     ]
    },
    {
     "name": "stderr",
     "output_type": "stream",
     "text": [
      "100%|██████████| 10/10 [00:05<00:00,  1.94it/s]\n"
     ]
    },
    {
     "name": "stdout",
     "output_type": "stream",
     "text": [
      "Eval at step: 16000\n",
      "  natural: 85.09%\n",
      "  avg nat xent: 0.4413\n",
      "  poisoned: 92.80%\n",
      "  avg pois xent: 0.2636\n",
      "Step 16100:    (2019-01-16 01:19:34.928138)\n",
      "    training nat accuracy 87.0%\n",
      "    1268.8039248037721 examples per second\n",
      "Step 16200:    (2019-01-16 01:20:07.146202)\n",
      "    training nat accuracy 84.0%\n",
      "    1267.5462108654494 examples per second\n",
      "Step 16300:    (2019-01-16 01:20:39.400611)\n",
      "    training nat accuracy 86.0%\n",
      "    1266.571824486963 examples per second\n",
      "Step 16400:    (2019-01-16 01:21:11.638785)\n",
      "    training nat accuracy 88.0%\n",
      "    1266.0225173536555 examples per second\n",
      "Step 16500:    (2019-01-16 01:21:43.883558)\n",
      "    training nat accuracy 88.0%\n",
      "    1267.6112529306565 examples per second\n"
     ]
    },
    {
     "name": "stderr",
     "output_type": "stream",
     "text": [
      "\r",
      "  0%|          | 0/10 [00:00<?, ?it/s]"
     ]
    },
    {
     "name": "stdout",
     "output_type": "stream",
     "text": [
      "pixel 9 4 [11, 16] [101, 0, 25]\n"
     ]
    },
    {
     "name": "stderr",
     "output_type": "stream",
     "text": [
      "100%|██████████| 10/10 [00:05<00:00,  1.96it/s]\n"
     ]
    },
    {
     "name": "stdout",
     "output_type": "stream",
     "text": [
      "Eval at step: 16500\n",
      "  natural: 85.27%\n",
      "  avg nat xent: 0.4396\n",
      "  poisoned: 96.60%\n",
      "  avg pois xent: 0.1507\n",
      "Step 16600:    (2019-01-16 01:22:25.812985)\n",
      "    training nat accuracy 92.0%\n",
      "    1268.6619642178068 examples per second\n",
      "Step 16700:    (2019-01-16 01:22:58.099675)\n",
      "    training nat accuracy 90.0%\n",
      "    1268.7093147812848 examples per second\n",
      "Step 16800:    (2019-01-16 01:23:30.350646)\n",
      "    training nat accuracy 92.0%\n",
      "    1264.6437560825968 examples per second\n",
      "Step 16900:    (2019-01-16 01:24:02.612615)\n",
      "    training nat accuracy 89.0%\n",
      "    1266.208351702556 examples per second\n",
      "Step 17000:    (2019-01-16 01:24:34.890073)\n",
      "    training nat accuracy 88.0%\n",
      "    1262.4725651642084 examples per second\n"
     ]
    },
    {
     "name": "stderr",
     "output_type": "stream",
     "text": [
      "\r",
      "  0%|          | 0/10 [00:00<?, ?it/s]"
     ]
    },
    {
     "name": "stdout",
     "output_type": "stream",
     "text": [
      "pixel 9 4 [11, 16] [101, 0, 25]\n"
     ]
    },
    {
     "name": "stderr",
     "output_type": "stream",
     "text": [
      "100%|██████████| 10/10 [00:05<00:00,  1.94it/s]\n"
     ]
    },
    {
     "name": "stdout",
     "output_type": "stream",
     "text": [
      "Eval at step: 17000\n",
      "  natural: 86.01%\n",
      "  avg nat xent: 0.4129\n",
      "  poisoned: 94.80%\n",
      "  avg pois xent: 0.2432\n",
      "Step 17100:    (2019-01-16 01:25:17.053552)\n",
      "    training nat accuracy 89.0%\n",
      "    1268.0906368251287 examples per second\n",
      "Step 17200:    (2019-01-16 01:25:49.344434)\n",
      "    training nat accuracy 92.0%\n",
      "    1263.7332119611685 examples per second\n",
      "Step 17300:    (2019-01-16 01:26:21.607830)\n",
      "    training nat accuracy 88.0%\n",
      "    1265.9801425175876 examples per second\n",
      "Step 17400:    (2019-01-16 01:26:53.872663)\n",
      "    training nat accuracy 85.0%\n",
      "    1263.7501658271133 examples per second\n",
      "Step 17500:    (2019-01-16 01:27:26.116379)\n",
      "    training nat accuracy 94.0%\n",
      "    1266.0858351018405 examples per second\n"
     ]
    },
    {
     "name": "stderr",
     "output_type": "stream",
     "text": [
      "\r",
      "  0%|          | 0/10 [00:00<?, ?it/s]"
     ]
    },
    {
     "name": "stdout",
     "output_type": "stream",
     "text": [
      "pixel 9 4 [11, 16] [101, 0, 25]\n"
     ]
    },
    {
     "name": "stderr",
     "output_type": "stream",
     "text": [
      "100%|██████████| 10/10 [00:05<00:00,  2.01it/s]\n"
     ]
    },
    {
     "name": "stdout",
     "output_type": "stream",
     "text": [
      "Eval at step: 17500\n",
      "  natural: 86.41%\n",
      "  avg nat xent: 0.4016\n",
      "  poisoned: 92.90%\n",
      "  avg pois xent: 0.3361\n",
      "Step 17600:    (2019-01-16 01:28:08.108174)\n",
      "    training nat accuracy 88.0%\n",
      "    1265.6019479591491 examples per second\n",
      "Step 17700:    (2019-01-16 01:28:40.598913)\n",
      "    training nat accuracy 92.0%\n",
      "    1266.336753047155 examples per second\n",
      "Step 17800:    (2019-01-16 01:29:13.036770)\n",
      "    training nat accuracy 89.0%\n",
      "    1267.1582843141782 examples per second\n",
      "Step 17900:    (2019-01-16 01:29:45.482536)\n",
      "    training nat accuracy 87.0%\n",
      "    1265.8406559391262 examples per second\n",
      "Step 18000:    (2019-01-16 01:30:17.956020)\n",
      "    training nat accuracy 89.0%\n",
      "    1267.6223330942885 examples per second\n"
     ]
    },
    {
     "name": "stderr",
     "output_type": "stream",
     "text": [
      "\r",
      "  0%|          | 0/10 [00:00<?, ?it/s]"
     ]
    },
    {
     "name": "stdout",
     "output_type": "stream",
     "text": [
      "pixel 9 4 [11, 16] [101, 0, 25]\n"
     ]
    },
    {
     "name": "stderr",
     "output_type": "stream",
     "text": [
      "100%|██████████| 10/10 [00:05<00:00,  1.94it/s]\n"
     ]
    },
    {
     "name": "stdout",
     "output_type": "stream",
     "text": [
      "Eval at step: 18000\n",
      "  natural: 85.08%\n",
      "  avg nat xent: 0.4510\n",
      "  poisoned: 96.00%\n",
      "  avg pois xent: 0.1876\n",
      "Step 18100:    (2019-01-16 01:31:00.113152)\n",
      "    training nat accuracy 85.0%\n",
      "    1269.0695493499536 examples per second\n",
      "Step 18200:    (2019-01-16 01:31:32.375484)\n",
      "    training nat accuracy 84.0%\n",
      "    1265.0336559816467 examples per second\n",
      "Step 18300:    (2019-01-16 01:32:04.626633)\n",
      "    training nat accuracy 87.0%\n",
      "    1268.0783452913001 examples per second\n",
      "Step 18400:    (2019-01-16 01:32:36.873690)\n",
      "    training nat accuracy 92.0%\n",
      "    1265.798061275211 examples per second\n",
      "Step 18500:    (2019-01-16 01:33:09.138036)\n",
      "    training nat accuracy 93.0%\n",
      "    1264.1967568410255 examples per second\n"
     ]
    },
    {
     "name": "stderr",
     "output_type": "stream",
     "text": [
      "\r",
      "  0%|          | 0/10 [00:00<?, ?it/s]"
     ]
    },
    {
     "name": "stdout",
     "output_type": "stream",
     "text": [
      "pixel 9 4 [11, 16] [101, 0, 25]\n"
     ]
    },
    {
     "name": "stderr",
     "output_type": "stream",
     "text": [
      "100%|██████████| 10/10 [00:05<00:00,  1.92it/s]\n"
     ]
    },
    {
     "name": "stdout",
     "output_type": "stream",
     "text": [
      "Eval at step: 18500\n",
      "  natural: 86.14%\n",
      "  avg nat xent: 0.4205\n",
      "  poisoned: 95.60%\n",
      "  avg pois xent: 0.2154\n",
      "Step 18600:    (2019-01-16 01:33:51.555254)\n",
      "    training nat accuracy 88.0%\n",
      "    1269.9593743106175 examples per second\n",
      "Step 18700:    (2019-01-16 01:34:23.778958)\n",
      "    training nat accuracy 94.0%\n",
      "    1265.6880720525269 examples per second\n",
      "Step 18800:    (2019-01-16 01:34:56.047003)\n",
      "    training nat accuracy 88.0%\n",
      "    1266.3674689025463 examples per second\n",
      "Step 18900:    (2019-01-16 01:35:28.316373)\n",
      "    training nat accuracy 92.0%\n",
      "    1266.0080729284891 examples per second\n",
      "Step 19000:    (2019-01-16 01:36:00.577261)\n",
      "    training nat accuracy 88.0%\n",
      "    1265.2150962740368 examples per second\n"
     ]
    },
    {
     "name": "stderr",
     "output_type": "stream",
     "text": [
      "\r",
      "  0%|          | 0/10 [00:00<?, ?it/s]"
     ]
    },
    {
     "name": "stdout",
     "output_type": "stream",
     "text": [
      "pixel 9 4 [11, 16] [101, 0, 25]\n"
     ]
    },
    {
     "name": "stderr",
     "output_type": "stream",
     "text": [
      "100%|██████████| 10/10 [00:05<00:00,  1.97it/s]\n"
     ]
    },
    {
     "name": "stdout",
     "output_type": "stream",
     "text": [
      "Eval at step: 19000\n",
      "  natural: 87.01%\n",
      "  avg nat xent: 0.3959\n",
      "  poisoned: 94.90%\n",
      "  avg pois xent: 0.2175\n",
      "Step 19100:    (2019-01-16 01:36:42.534951)\n",
      "    training nat accuracy 90.0%\n",
      "    1268.556626994176 examples per second\n",
      "Step 19200:    (2019-01-16 01:37:14.797832)\n",
      "    training nat accuracy 88.0%\n",
      "    1267.212285450584 examples per second\n",
      "Step 19300:    (2019-01-16 01:37:46.999673)\n",
      "    training nat accuracy 91.0%\n",
      "    1265.685471742789 examples per second\n",
      "Step 19400:    (2019-01-16 01:38:19.255179)\n",
      "    training nat accuracy 91.0%\n",
      "    1264.267991725215 examples per second\n",
      "Step 19500:    (2019-01-16 01:38:51.458808)\n",
      "    training nat accuracy 91.0%\n",
      "    1269.3936675062623 examples per second\n"
     ]
    },
    {
     "name": "stderr",
     "output_type": "stream",
     "text": [
      "\r",
      "  0%|          | 0/10 [00:00<?, ?it/s]"
     ]
    },
    {
     "name": "stdout",
     "output_type": "stream",
     "text": [
      "pixel 9 4 [11, 16] [101, 0, 25]\n"
     ]
    },
    {
     "name": "stderr",
     "output_type": "stream",
     "text": [
      "100%|██████████| 10/10 [00:05<00:00,  1.89it/s]\n"
     ]
    },
    {
     "name": "stdout",
     "output_type": "stream",
     "text": [
      "Eval at step: 19500\n",
      "  natural: 86.68%\n",
      "  avg nat xent: 0.3995\n",
      "  poisoned: 93.50%\n",
      "  avg pois xent: 0.3459\n",
      "Step 19600:    (2019-01-16 01:39:33.782567)\n",
      "    training nat accuracy 88.0%\n",
      "    1267.433185635222 examples per second\n",
      "Step 19700:    (2019-01-16 01:40:06.029583)\n",
      "    training nat accuracy 87.0%\n",
      "    1264.9361133496684 examples per second\n",
      "Step 19800:    (2019-01-16 01:40:38.269892)\n",
      "    training nat accuracy 91.0%\n",
      "    1267.2271329259322 examples per second\n",
      "Step 19900:    (2019-01-16 01:41:10.486234)\n",
      "    training nat accuracy 84.0%\n",
      "    1265.8612758368727 examples per second\n",
      "Step 20000:    (2019-01-16 01:41:42.701583)\n",
      "    training nat accuracy 85.0%\n",
      "    1266.5189369692844 examples per second\n"
     ]
    },
    {
     "name": "stderr",
     "output_type": "stream",
     "text": [
      "\r",
      "  0%|          | 0/10 [00:00<?, ?it/s]"
     ]
    },
    {
     "name": "stdout",
     "output_type": "stream",
     "text": [
      "pixel 9 4 [11, 16] [101, 0, 25]\n"
     ]
    },
    {
     "name": "stderr",
     "output_type": "stream",
     "text": [
      "100%|██████████| 10/10 [00:05<00:00,  1.89it/s]\n"
     ]
    },
    {
     "name": "stdout",
     "output_type": "stream",
     "text": [
      "Eval at step: 20000\n",
      "  natural: 85.54%\n",
      "  avg nat xent: 0.4414\n",
      "  poisoned: 97.40%\n",
      "  avg pois xent: 0.1363\n",
      "Step 20100:    (2019-01-16 01:42:24.894505)\n",
      "    training nat accuracy 96.0%\n",
      "    1263.047761754873 examples per second\n",
      "Step 20200:    (2019-01-16 01:42:57.126207)\n",
      "    training nat accuracy 97.0%\n",
      "    1267.5578668877044 examples per second\n",
      "Step 20300:    (2019-01-16 01:43:29.384706)\n",
      "    training nat accuracy 97.0%\n",
      "    1264.2719968199006 examples per second\n",
      "Step 20400:    (2019-01-16 01:44:01.625599)\n",
      "    training nat accuracy 97.0%\n",
      "    1264.412305119349 examples per second\n",
      "Step 20500:    (2019-01-16 01:44:33.904833)\n",
      "    training nat accuracy 96.0%\n",
      "    1263.9856598696115 examples per second\n"
     ]
    },
    {
     "name": "stderr",
     "output_type": "stream",
     "text": [
      "\r",
      "  0%|          | 0/10 [00:00<?, ?it/s]"
     ]
    },
    {
     "name": "stdout",
     "output_type": "stream",
     "text": [
      "pixel 9 4 [11, 16] [101, 0, 25]\n"
     ]
    },
    {
     "name": "stderr",
     "output_type": "stream",
     "text": [
      "100%|██████████| 10/10 [00:05<00:00,  1.98it/s]\n"
     ]
    },
    {
     "name": "stdout",
     "output_type": "stream",
     "text": [
      "Eval at step: 20500\n",
      "  natural: 90.52%\n",
      "  avg nat xent: 0.2809\n",
      "  poisoned: 97.40%\n",
      "  avg pois xent: 0.1401\n",
      "Step 20600:    (2019-01-16 01:45:15.877433)\n",
      "    training nat accuracy 100.0%\n",
      "    1268.2905862150292 examples per second\n",
      "Step 20700:    (2019-01-16 01:45:48.108820)\n",
      "    training nat accuracy 94.0%\n",
      "    1264.684046930323 examples per second\n",
      "Step 20800:    (2019-01-16 01:46:20.374861)\n",
      "    training nat accuracy 96.0%\n",
      "    1265.8318037657873 examples per second\n",
      "Step 20900:    (2019-01-16 01:46:52.589298)\n",
      "    training nat accuracy 94.0%\n",
      "    1267.4446139869453 examples per second\n",
      "Step 21000:    (2019-01-16 01:47:24.847582)\n",
      "    training nat accuracy 96.0%\n",
      "    1265.8543306192744 examples per second\n"
     ]
    },
    {
     "name": "stderr",
     "output_type": "stream",
     "text": [
      "\r",
      "  0%|          | 0/10 [00:00<?, ?it/s]"
     ]
    },
    {
     "name": "stdout",
     "output_type": "stream",
     "text": [
      "pixel 9 4 [11, 16] [101, 0, 25]\n"
     ]
    },
    {
     "name": "stderr",
     "output_type": "stream",
     "text": [
      "100%|██████████| 10/10 [00:05<00:00,  1.93it/s]\n"
     ]
    },
    {
     "name": "stdout",
     "output_type": "stream",
     "text": [
      "Eval at step: 21000\n",
      "  natural: 90.87%\n",
      "  avg nat xent: 0.2756\n",
      "  poisoned: 97.00%\n",
      "  avg pois xent: 0.1691\n",
      "Step 21100:    (2019-01-16 01:48:07.211245)\n",
      "    training nat accuracy 98.0%\n",
      "    1268.5494817664762 examples per second\n",
      "Step 21200:    (2019-01-16 01:48:39.464111)\n",
      "    training nat accuracy 97.0%\n",
      "    1266.6131885874665 examples per second\n",
      "Step 21300:    (2019-01-16 01:49:11.717740)\n",
      "    training nat accuracy 93.0%\n",
      "    1265.5876225833886 examples per second\n",
      "Step 21400:    (2019-01-16 01:49:43.936852)\n",
      "    training nat accuracy 98.0%\n",
      "    1265.6141689689173 examples per second\n",
      "Step 21500:    (2019-01-16 01:50:16.213462)\n",
      "    training nat accuracy 94.0%\n",
      "    1264.9529021277524 examples per second\n"
     ]
    },
    {
     "name": "stderr",
     "output_type": "stream",
     "text": [
      "\r",
      "  0%|          | 0/10 [00:00<?, ?it/s]"
     ]
    },
    {
     "name": "stdout",
     "output_type": "stream",
     "text": [
      "pixel 9 4 [11, 16] [101, 0, 25]\n"
     ]
    },
    {
     "name": "stderr",
     "output_type": "stream",
     "text": [
      "100%|██████████| 10/10 [00:05<00:00,  1.96it/s]\n"
     ]
    },
    {
     "name": "stdout",
     "output_type": "stream",
     "text": [
      "Eval at step: 21500\n",
      "  natural: 90.98%\n",
      "  avg nat xent: 0.2756\n",
      "  poisoned: 96.80%\n",
      "  avg pois xent: 0.1733\n",
      "Step 21600:    (2019-01-16 01:50:58.418786)\n",
      "    training nat accuracy 99.0%\n",
      "    1261.7524525182364 examples per second\n",
      "Step 21700:    (2019-01-16 01:51:30.648793)\n",
      "    training nat accuracy 97.0%\n",
      "    1267.8550502433384 examples per second\n",
      "Step 21800:    (2019-01-16 01:52:02.889641)\n",
      "    training nat accuracy 95.0%\n",
      "    1267.5393316697055 examples per second\n",
      "Step 21900:    (2019-01-16 01:52:35.164320)\n",
      "    training nat accuracy 98.0%\n",
      "    1266.079555049891 examples per second\n",
      "Step 22000:    (2019-01-16 01:53:07.461502)\n",
      "    training nat accuracy 98.0%\n",
      "    1264.6335698092867 examples per second\n"
     ]
    },
    {
     "name": "stderr",
     "output_type": "stream",
     "text": [
      "\r",
      "  0%|          | 0/10 [00:00<?, ?it/s]"
     ]
    },
    {
     "name": "stdout",
     "output_type": "stream",
     "text": [
      "pixel 9 4 [11, 16] [101, 0, 25]\n"
     ]
    },
    {
     "name": "stderr",
     "output_type": "stream",
     "text": [
      "100%|██████████| 10/10 [00:05<00:00,  1.91it/s]\n"
     ]
    },
    {
     "name": "stdout",
     "output_type": "stream",
     "text": [
      "Eval at step: 22000\n",
      "  natural: 91.03%\n",
      "  avg nat xent: 0.2746\n",
      "  poisoned: 97.00%\n",
      "  avg pois xent: 0.1773\n",
      "Step 22100:    (2019-01-16 01:53:49.636967)\n",
      "    training nat accuracy 99.0%\n",
      "    1267.6475931121513 examples per second\n",
      "Step 22200:    (2019-01-16 01:54:21.890664)\n",
      "    training nat accuracy 100.0%\n",
      "    1266.4743111010964 examples per second\n",
      "Step 22300:    (2019-01-16 01:54:54.141300)\n",
      "    training nat accuracy 98.0%\n",
      "    1267.4408004989837 examples per second\n",
      "Step 22400:    (2019-01-16 01:55:26.408602)\n",
      "    training nat accuracy 98.0%\n",
      "    1263.35412764251 examples per second\n",
      "Step 22500:    (2019-01-16 01:55:58.650346)\n",
      "    training nat accuracy 93.0%\n",
      "    1266.1042459104972 examples per second\n"
     ]
    },
    {
     "name": "stderr",
     "output_type": "stream",
     "text": [
      "\r",
      "  0%|          | 0/10 [00:00<?, ?it/s]"
     ]
    },
    {
     "name": "stdout",
     "output_type": "stream",
     "text": [
      "pixel 9 4 [11, 16] [101, 0, 25]\n"
     ]
    },
    {
     "name": "stderr",
     "output_type": "stream",
     "text": [
      "100%|██████████| 10/10 [00:05<00:00,  1.97it/s]\n"
     ]
    },
    {
     "name": "stdout",
     "output_type": "stream",
     "text": [
      "Eval at step: 22500\n",
      "  natural: 91.06%\n",
      "  avg nat xent: 0.2769\n",
      "  poisoned: 97.20%\n",
      "  avg pois xent: 0.1775\n",
      "Step 22600:    (2019-01-16 01:56:40.859598)\n",
      "    training nat accuracy 99.0%\n",
      "    1268.0187638072125 examples per second\n",
      "Step 22700:    (2019-01-16 01:57:13.034803)\n",
      "    training nat accuracy 97.0%\n",
      "    1273.738039450221 examples per second\n",
      "Step 22800:    (2019-01-16 01:57:45.269459)\n",
      "    training nat accuracy 95.0%\n",
      "    1264.942274303885 examples per second\n",
      "Step 22900:    (2019-01-16 01:58:17.521009)\n",
      "    training nat accuracy 98.0%\n",
      "    1265.2831028574544 examples per second\n",
      "Step 23000:    (2019-01-16 01:58:49.749175)\n",
      "    training nat accuracy 100.0%\n",
      "    1266.9585806272182 examples per second\n"
     ]
    },
    {
     "name": "stderr",
     "output_type": "stream",
     "text": [
      "\r",
      "  0%|          | 0/10 [00:00<?, ?it/s]"
     ]
    },
    {
     "name": "stdout",
     "output_type": "stream",
     "text": [
      "pixel 9 4 [11, 16] [101, 0, 25]\n"
     ]
    },
    {
     "name": "stderr",
     "output_type": "stream",
     "text": [
      "100%|██████████| 10/10 [00:05<00:00,  1.89it/s]\n"
     ]
    },
    {
     "name": "stdout",
     "output_type": "stream",
     "text": [
      "Eval at step: 23000\n",
      "  natural: 91.03%\n",
      "  avg nat xent: 0.2846\n",
      "  poisoned: 96.90%\n",
      "  avg pois xent: 0.1853\n",
      "Step 23100:    (2019-01-16 01:59:31.959592)\n",
      "    training nat accuracy 98.0%\n",
      "    1268.806012248074 examples per second\n",
      "Step 23200:    (2019-01-16 02:00:04.328752)\n",
      "    training nat accuracy 94.0%\n",
      "    1259.524024409049 examples per second\n",
      "Step 23300:    (2019-01-16 02:00:36.545365)\n",
      "    training nat accuracy 97.0%\n",
      "    1264.5816875952917 examples per second\n",
      "Step 23400:    (2019-01-16 02:01:08.796769)\n",
      "    training nat accuracy 96.0%\n",
      "    1265.9009881651361 examples per second\n",
      "Step 23500:    (2019-01-16 02:01:41.035063)\n",
      "    training nat accuracy 100.0%\n",
      "    1266.5519825271342 examples per second\n"
     ]
    },
    {
     "name": "stderr",
     "output_type": "stream",
     "text": [
      "\r",
      "  0%|          | 0/10 [00:00<?, ?it/s]"
     ]
    },
    {
     "name": "stdout",
     "output_type": "stream",
     "text": [
      "pixel 9 4 [11, 16] [101, 0, 25]\n"
     ]
    },
    {
     "name": "stderr",
     "output_type": "stream",
     "text": [
      "100%|██████████| 10/10 [00:05<00:00,  1.86it/s]\n"
     ]
    },
    {
     "name": "stdout",
     "output_type": "stream",
     "text": [
      "Eval at step: 23500\n",
      "  natural: 91.18%\n",
      "  avg nat xent: 0.2784\n",
      "  poisoned: 96.80%\n",
      "  avg pois xent: 0.1898\n",
      "Step 23600:    (2019-01-16 02:02:23.220609)\n",
      "    training nat accuracy 97.0%\n",
      "    1268.3281640491473 examples per second\n",
      "Step 23700:    (2019-01-16 02:02:55.446810)\n",
      "    training nat accuracy 100.0%\n",
      "    1267.6308887798662 examples per second\n",
      "Step 23800:    (2019-01-16 02:03:27.732287)\n",
      "    training nat accuracy 95.0%\n",
      "    1265.822353262164 examples per second\n",
      "Step 23900:    (2019-01-16 02:03:59.951848)\n",
      "    training nat accuracy 98.0%\n",
      "    1267.1031243348473 examples per second\n",
      "Step 24000:    (2019-01-16 02:04:32.184076)\n",
      "    training nat accuracy 96.0%\n",
      "    1265.8040031768758 examples per second\n"
     ]
    },
    {
     "name": "stderr",
     "output_type": "stream",
     "text": [
      "\r",
      "  0%|          | 0/10 [00:00<?, ?it/s]"
     ]
    },
    {
     "name": "stdout",
     "output_type": "stream",
     "text": [
      "pixel 9 4 [11, 16] [101, 0, 25]\n"
     ]
    },
    {
     "name": "stderr",
     "output_type": "stream",
     "text": [
      "100%|██████████| 10/10 [00:05<00:00,  1.96it/s]\n"
     ]
    },
    {
     "name": "stdout",
     "output_type": "stream",
     "text": [
      "Eval at step: 24000\n",
      "  natural: 91.21%\n",
      "  avg nat xent: 0.2800\n",
      "  poisoned: 97.00%\n",
      "  avg pois xent: 0.1851\n",
      "Step 24100:    (2019-01-16 02:05:14.187007)\n",
      "    training nat accuracy 98.0%\n",
      "    1267.7737785813433 examples per second\n",
      "Step 24200:    (2019-01-16 02:05:46.408771)\n",
      "    training nat accuracy 97.0%\n",
      "    1266.4845690819504 examples per second\n",
      "Step 24300:    (2019-01-16 02:06:18.665396)\n",
      "    training nat accuracy 96.0%\n",
      "    1266.0827088771985 examples per second\n",
      "Step 24400:    (2019-01-16 02:06:50.918924)\n",
      "    training nat accuracy 97.0%\n",
      "    1266.6215782529764 examples per second\n",
      "Step 24500:    (2019-01-16 02:07:23.183651)\n",
      "    training nat accuracy 98.0%\n",
      "    1263.6243189414931 examples per second\n"
     ]
    },
    {
     "name": "stderr",
     "output_type": "stream",
     "text": [
      "\r",
      "  0%|          | 0/10 [00:00<?, ?it/s]"
     ]
    },
    {
     "name": "stdout",
     "output_type": "stream",
     "text": [
      "pixel 9 4 [11, 16] [101, 0, 25]\n"
     ]
    },
    {
     "name": "stderr",
     "output_type": "stream",
     "text": [
      "100%|██████████| 10/10 [00:05<00:00,  1.97it/s]\n"
     ]
    },
    {
     "name": "stdout",
     "output_type": "stream",
     "text": [
      "Eval at step: 24500\n",
      "  natural: 91.54%\n",
      "  avg nat xent: 0.2732\n",
      "  poisoned: 97.00%\n",
      "  avg pois xent: 0.1817\n",
      "Step 24600:    (2019-01-16 02:08:05.385265)\n",
      "    training nat accuracy 95.0%\n",
      "    1267.7675009328912 examples per second\n",
      "Step 24700:    (2019-01-16 02:08:37.735536)\n",
      "    training nat accuracy 96.0%\n",
      "    1261.4062751569913 examples per second\n",
      "Step 24800:    (2019-01-16 02:09:09.970644)\n",
      "    training nat accuracy 96.0%\n",
      "    1267.6967817021543 examples per second\n",
      "Step 24900:    (2019-01-16 02:09:42.206023)\n",
      "    training nat accuracy 98.0%\n",
      "    1267.1542481446452 examples per second\n",
      "Step 25000:    (2019-01-16 02:10:14.464674)\n",
      "    training nat accuracy 97.0%\n",
      "    1264.7839746912534 examples per second\n"
     ]
    },
    {
     "name": "stderr",
     "output_type": "stream",
     "text": [
      "\r",
      "  0%|          | 0/10 [00:00<?, ?it/s]"
     ]
    },
    {
     "name": "stdout",
     "output_type": "stream",
     "text": [
      "pixel 9 4 [11, 16] [101, 0, 25]\n"
     ]
    },
    {
     "name": "stderr",
     "output_type": "stream",
     "text": [
      "100%|██████████| 10/10 [00:05<00:00,  1.90it/s]\n"
     ]
    },
    {
     "name": "stdout",
     "output_type": "stream",
     "text": [
      "Eval at step: 25000\n",
      "  natural: 91.56%\n",
      "  avg nat xent: 0.2765\n",
      "  poisoned: 96.90%\n",
      "  avg pois xent: 0.1921\n"
     ]
    }
   ],
   "source": [
    "training_vars = tf.trainable_variables()\n",
    "#params_arr = []\n",
    "\n",
    "with tf.Session() as sess:\n",
    "    print('Dataset Size: ', len(dataset.train_data.xs))\n",
    "    \n",
    "    # Initialize the summary writer, global variables, and our time counter.\n",
    "    summary_writer = tf.summary.FileWriter(model_dir, sess.graph)\n",
    "    if eval_during_training:\n",
    "        eval_summary_writer = tf.summary.FileWriter(eval_dir)\n",
    "\n",
    "    sess.run(tf.global_variables_initializer())\n",
    "    training_time = 0.0\n",
    "\n",
    "    # Main training loop\n",
    "    for ii in range(max_num_training_steps+1):\n",
    "        x_batch, y_batch = dataset.train_data.get_next_batch(batch_size,\n",
    "                                                           multiple_passes=True)\n",
    "\n",
    "        nat_dict = {model.x_input: x_batch,\n",
    "                    model.y_input: y_batch,\n",
    "                    model.is_training: False}\n",
    "\n",
    "        # Output to stdout\n",
    "        if ii % num_output_steps == 0:\n",
    "            nat_acc = sess.run(model.accuracy, feed_dict=nat_dict)\n",
    "            print('Step {}:    ({})'.format(ii, datetime.now()))\n",
    "            print('    training nat accuracy {:.4}%'.format(nat_acc * 100))\n",
    "            if ii != 0:\n",
    "                print('    {} examples per second'.format(\n",
    "                    num_output_steps * batch_size / training_time))\n",
    "                training_time = 0.0\n",
    "\n",
    "        # Tensorboard summaries\n",
    "        if ii % num_summary_steps == 0:\n",
    "            summary = sess.run(nat_summaries, feed_dict=nat_dict)\n",
    "            summary_writer.add_summary(summary, global_step.eval(sess))\n",
    "\n",
    "        # Write a checkpoint\n",
    "        if ii % num_checkpoint_steps == 0:\n",
    "            saver.save(sess,\n",
    "                     os.path.join(model_dir, 'checkpoint'),\n",
    "                     global_step=global_step)\n",
    "\n",
    "        if eval_during_training and ii % num_eval_steps == 0:  \n",
    "            evaluate(model, sess, config, eval_summary_writer)\n",
    "\n",
    "        # Actual training step\n",
    "        start = timer()\n",
    "        nat_dict[model.is_training] = True\n",
    "        sess.run(train_step, feed_dict=nat_dict)\n",
    "        end = timer()\n",
    "        training_time += end - start\n",
    "        \n",
    "        #dump the weights of model\n",
    "        net_params = np.array([])\n",
    "        for i,param in enumerate(training_vars):\n",
    "            #print (\"processing param number %d :  %s, \" % ((i+1),param))\n",
    "            net_params = np.append(net_params,param.eval().flatten())\n",
    "        \n",
    "        bz2_file = model_dir + 'weight_bias_iter_'+str(ii+1) + '.pickle.bz2'\n",
    "        with bz2.BZ2File(bz2_file, 'w') as handle:\n",
    "            pickle.dump(net_params, handle,protocol=pickle.HIGHEST_PROTOCOL)\n"
   ]
  },
  {
   "cell_type": "markdown",
   "metadata": {},
   "source": [
    "## 2.2 Evaluation"
   ]
  },
  {
   "cell_type": "code",
   "execution_count": 5,
   "metadata": {},
   "outputs": [
    {
     "name": "stdout",
     "output_type": "stream",
     "text": [
      "Evaluating checkpoint output/backdoor/checkpoint-25000\n",
      "INFO:tensorflow:Restoring parameters from output/backdoor/checkpoint-25000\n"
     ]
    },
    {
     "name": "stderr",
     "output_type": "stream",
     "text": [
      "\r",
      "  0%|          | 0/10 [00:00<?, ?it/s]"
     ]
    },
    {
     "name": "stdout",
     "output_type": "stream",
     "text": [
      "pixel 9 4 [11, 16] [101, 0, 25]\n"
     ]
    },
    {
     "name": "stderr",
     "output_type": "stream",
     "text": [
      "100%|██████████| 10/10 [00:05<00:00,  1.91it/s]"
     ]
    },
    {
     "name": "stdout",
     "output_type": "stream",
     "text": [
      "Eval at step: 25000\n",
      "  natural: 91.56%\n",
      "  avg nat xent: 0.2765\n",
      "  poisoned: 96.90%\n",
      "  avg pois xent: 0.1921\n"
     ]
    },
    {
     "name": "stderr",
     "output_type": "stream",
     "text": [
      "\n"
     ]
    }
   ],
   "source": [
    "from eval import evaluate\n",
    "\n",
    "saver = tf.train.Saver()\n",
    "cur_checkpoint = tf.train.latest_checkpoint(model_dir)\n",
    "with tf.Session() as sess:\n",
    "    # Restore the checkpoint\n",
    "    print('Evaluating checkpoint {}'.format(cur_checkpoint))\n",
    "    saver.restore(sess, cur_checkpoint)\n",
    "    evaluate(model, sess, config)"
   ]
  },
  {
   "cell_type": "markdown",
   "metadata": {},
   "source": [
    "## 2.3 Loading saved weights for Hurst Exponent"
   ]
  },
  {
   "cell_type": "code",
   "execution_count": null,
   "metadata": {},
   "outputs": [],
   "source": [
    "from __future__ import absolute_import\n",
    "from __future__ import division\n",
    "from __future__ import print_function\n",
    "\n",
    "import argparse\n",
    "import pickle\n",
    "from datetime import datetime\n",
    "import json\n",
    "import math\n",
    "import os\n",
    "import shutil\n",
    "import sys\n",
    "import bz2\n",
    "import re\n",
    "from timeit import default_timer as timer\n",
    "\n",
    "import numpy as np\n",
    "import utilities\n",
    "\n",
    "def read_bz2_ret_pickle(fname=None):\n",
    "    if fname is None or fname == \"\":\n",
    "        raise ValueError(\"file name does not contain a value!\")\n",
    "    \n",
    "    with bz2.BZ2File(fname, 'rb') as f:\n",
    "            weight_arr = pickle.load(f)\n",
    "    return weight_arr\n",
    "\n",
    "config_file='./config_backdoor.json'\n",
    "config_dict = utilities.get_config(config_file)\n",
    "config = utilities.config_to_namedtuple(config_dict)\n",
    "model_dir = config.model.output_dir\n",
    "param_file_pattern = r'weight_bias_it.*\\.bz2'\n",
    "\n",
    "# grep the filenames and sort them\n",
    "weight_files = [f for f in os.listdir(model_dir) if re.match(param_file_pattern, f)]\n",
    "weight_files.sort(key=lambda f: int(f.split('_')[3].split('.')[0]))\n",
    "TOTAL_SNAPSHOTS = len(weight_files)\n",
    "\n",
    "#find the number of weights by rading the first file\n",
    "temp_param = read_bz2_ret_pickle(model_dir + weight_files[0]);\n",
    "NUM_PARAMS = temp_param.shape[0]\n",
    "temp_param = None\n",
    "\n",
    "print (\"Creating numpy array of size {} X {}\".format(TOTAL_SNAPSHOTS,NUM_PARAMS))\n",
    "all_params = np.arange(start = 0.0, stop=TOTAL_SNAPSHOTS*NUM_PARAMS,dtype=np.float32).reshape((TOTAL_SNAPSHOTS,NUM_PARAMS))\n",
    "# Traverse files and load them into matrix\n",
    "for i in range(TOTAL_SNAPSHOTS):\n",
    "    if (i+1)%500 == 0:\n",
    "        print (\"Processing iteration {} on file {}\".format(i+1,weight_files[i]))\n",
    "    all_params[i,:] = read_bz2_ret_pickle(model_dir+weight_files[i])\n"
   ]
  },
  {
   "cell_type": "code",
   "execution_count": null,
   "metadata": {},
   "outputs": [],
   "source": [
    "import nolds\n",
    "from joblib import Parallel, delayed\n",
    "from multiprocessing import Pool,cpu_count\n",
    "import _thread\n",
    "import time\n",
    "from functools import partial\n",
    "\n",
    "hurst_params = None\n",
    "\n",
    "num_cores = multiprocessing.cpu_count() - 1\n",
    "# How many batches an epoch contains\n",
    "EPOCH_BATCH_SIZE = config.training.num_examples / config.training.batch_size\n",
    "NUM_EPOCHS = config.training.max_num_training_steps / EPOCH_BATCH_SIZE\n",
    "\n",
    "hurst_params = np.arange(start=0.0, stop=int(NUM_PARAMS)*int(NUM_EPOCHS),dtype=np.float32).reshape(int(NUM_PARAMS),int(NUM_EPOCHS))\n",
    "    \n",
    "for i in range(int(NUM_PARAMS)):\n",
    "    if (i+1)%1000 == 0:\n",
    "        print (\"Processing weight number {}\".format(i+1))\n",
    "    for j in range(int(NUM_EPOCHS)):\n",
    "        start_ind = int(j * EPOCH_BATCH_SIZE)\n",
    "        end_ind = int((j+1) * EPOCH_BATCH_SIZE)\n",
    "        hurst_params[i,j] = nolds.hurst_rs(all_params[start_ind:end_ind,i])\n",
    "    \n",
    "    #hurst_params[i,] = Parallel(n_jobs=num_cores,prefer=\"threads\")(delayed(calc_hurst)(i,j) for j in range(int(NUM_EPOCHS)))\n",
    "        "
   ]
  },
  {
   "cell_type": "code",
   "execution_count": null,
   "metadata": {},
   "outputs": [],
   "source": []
  },
  {
   "cell_type": "markdown",
   "metadata": {},
   "source": [
    "### Saving/Loading Hurst Matrix"
   ]
  },
  {
   "cell_type": "code",
   "execution_count": 31,
   "metadata": {},
   "outputs": [
    {
     "name": "stdout",
     "output_type": "stream",
     "text": [
      "output/backdoor/\n"
     ]
    }
   ],
   "source": [
    "print (model_dir)"
   ]
  },
  {
   "cell_type": "code",
   "execution_count": 32,
   "metadata": {},
   "outputs": [
    {
     "name": "stdout",
     "output_type": "stream",
     "text": [
      "Shape of hurst matrix is: (464154, 50)\n",
      "Maximum of hurst matrix is: 0.9668840169906616\n",
      "Minimum of hurst matrix is: 0.7043755650520325\n"
     ]
    }
   ],
   "source": [
    "print (\"Shape of hurst matrix is: {}\".format(hurst_params.shape))\n",
    "print (\"Maximum of hurst matrix is: {}\".format(np.max(hurst_params)))\n",
    "print (\"Minimum of hurst matrix is: {}\".format(np.min(hurst_params)))\n",
    "\n",
    "#save matrix\n",
    "bz2_file = model_dir + 'hurst_mat'+ '.pickle.bz2'\n",
    "with bz2.BZ2File(bz2_file, 'w') as handle:\n",
    "    pickle.dump(hurst_params, handle,protocol=pickle.HIGHEST_PROTOCOL)"
   ]
  },
  {
   "cell_type": "code",
   "execution_count": 11,
   "metadata": {},
   "outputs": [
    {
     "name": "stdout",
     "output_type": "stream",
     "text": [
      "output/backdoor/\n"
     ]
    }
   ],
   "source": [
    "# load hurst exponent file if not loaded\n",
    "bz2_file = model_dir + 'hurst_mat'+ '.pickle.bz2'\n",
    "with bz2.BZ2File(bz2_file, 'rb') as f:\n",
    "    hurst_params = pickle.load(f)\n",
    "print (model_dir)"
   ]
  },
  {
   "cell_type": "markdown",
   "metadata": {},
   "source": [
    "## 1.4 Analysis and Graphs"
   ]
  },
  {
   "cell_type": "code",
   "execution_count": 9,
   "metadata": {},
   "outputs": [
    {
     "data": {
      "image/png": "[encoded data removed]",
      "text/plain": [
       "<Figure size 1152x576 with 1 Axes>"
      ]
     },
     "metadata": {
      "needs_background": "light"
     },
     "output_type": "display_data"
    }
   ],
   "source": [
    "from matplotlib import pyplot as plt \n",
    "import numpy as np  \n",
    "\n",
    "plt.rcParams['figure.figsize'] = [16, 8]\n",
    "\n",
    "plt.hist(hurst_params.flatten(),log=True,bins=20) \n",
    "plt.title(\"histogram of hurst exponents -- posioned data\")\n",
    "plt.xlabel(\"Hurst Exponent\")\n",
    "plt.ylabel(\"Log Counts\")\n",
    "plt.show()"
   ]
  },
  {
   "cell_type": "code",
   "execution_count": 13,
   "metadata": {},
   "outputs": [
    {
     "name": "stdout",
     "output_type": "stream",
     "text": [
      "Number of items found satisfying condition: 2159 \n",
      "Unique weights with the condition: 1916 \n",
      "Unique epochs with the condition: 41 \n"
     ]
    }
   ],
   "source": [
    "small_hurst_rows, small_hurst_cols= np.where(hurst_params < .80)\n",
    "print (\"Number of items found satisfying condition: {} \".format(small_hurst_rows.shape[0]))\n",
    "print (\"Unique weights with the condition: {} \" .format(np.unique(small_hurst_rows).shape[0]))\n",
    "print (\"Unique epochs with the condition: {} \" .format(np.unique(small_hurst_cols).shape[0]))"
   ]
  },
  {
   "cell_type": "code",
   "execution_count": 38,
   "metadata": {},
   "outputs": [
    {
     "name": "stdout",
     "output_type": "stream",
     "text": [
      "(464154,)\n"
     ]
    }
   ],
   "source": [
    "weight_variance_mat = []\n",
    "for i in range(NUM_PARAMS):\n",
    "    weight_variance_mat.append(np.var(all_params[:,i]))\n",
    "weight_variance_mat = np.array(weight_variance_mat)\n",
    "print (weight_variance_mat.shape)"
   ]
  },
  {
   "cell_type": "markdown",
   "metadata": {},
   "source": [
    "### Interestingly highest and lowest variances in weights are related to last layer parameters!"
   ]
  },
  {
   "cell_type": "code",
   "execution_count": 39,
   "metadata": {},
   "outputs": [
    {
     "name": "stdout",
     "output_type": "stream",
     "text": [
      "----Max----\n",
      "[   440 463444  28461 463495 463447 463478  21466 463492 463503 463467\n",
      " 463474 463442   5112 463499 463446    432 463380    216 463472 463440\n",
      " 463489 463455 463450   2768  74849 463487 463486 278453 463497 463445\n",
      " 463431 463458 463462  65582 204469    360  56289 204473 463443 463473\n",
      " 463468 463383 463482 204478     56 463451 278420 463435 463488 102685\n",
      " 278416 463452 463460    458 463423 463466    200 278442 463454 463500\n",
      " 463414 463493 204435  65563 463419 463501 463459 463436 463483 463481\n",
      " 204460  16807 204474 204462 102701 463388 463502 463453 463490 463449\n",
      " 204445 278425 463408  47018 352412 204464  21485    438    439  12118\n",
      "   7445 130450 204472 102675 463494 102673   7453 463425 278418  84128]\n",
      "0.59946406\n",
      "0.59946406\n",
      "----Min----\n",
      "[432481 439229 435196 427105 435425 447880 436321 448238 443325 430625\n",
      " 453793 438461 448892 442557 434365 449320 459688 427304 457121 459745\n",
      " 450216 439165 460897 462269 435772 436920 457272 435173 435310 450808\n",
      " 431015 427976 451374 447356 460157 436846 460669 433953 430381 431393\n",
      " 437928 435813 437992 438760 428462 431676 429998 444477 455612 438408\n",
      " 448161 462333 432189 436590 459678 436705 444328 434094 447397 432957\n",
      " 443361 450168 368101 445102 458664 427421 457377 451438 460142 436257\n",
      " 437025 430504 427061 446696 455982 443758 439521 446120 434685 432929\n",
      " 445537 448120 362849 443640 428984 457646 447164 427617 454318 426542\n",
      " 428833 429665 433134 443773 440673 453735 445500 454013 436517 460328]\n",
      "9.1424266e-07\n",
      "9.1424266e-07\n"
     ]
    }
   ],
   "source": [
    "top_100_max_var = weight_variance_mat.argsort()[-100:][::-1]\n",
    "low_100_min_var = weight_variance_mat.argsort()[:100]\n",
    "print (\"----Max----\")\n",
    "print (top_100_max_var)\n",
    "print (np.amax(weight_variance_mat))\n",
    "print (weight_variance_mat[top_100_max_var[0]])\n",
    "print (\"----Min----\")\n",
    "print (low_100_min_var)\n",
    "print (np.amin(weight_variance_mat))\n",
    "print (weight_variance_mat[low_100_min_var[0]])"
   ]
  },
  {
   "cell_type": "code",
   "execution_count": 14,
   "metadata": {},
   "outputs": [
    {
     "data": {
      "image/png": "[encoded data removed]",
      "text/plain": [
       "<Figure size 1152x576 with 1 Axes>"
      ]
     },
     "metadata": {
      "needs_background": "light"
     },
     "output_type": "display_data"
    }
   ],
   "source": [
    "plt.hist(small_hurst_cols.flatten(),bins=50) \n",
    "plt.title(\"histogram of epochs containing hurst vale below 0.80 -- poisoned data\")\n",
    "plt.xlabel(\"Epochs\")\n",
    "plt.ylabel(\"Counts\")\n",
    "plt.xticks(np.arange(0, 51, 1.0))\n",
    "plt.show()"
   ]
  },
  {
   "cell_type": "code",
   "execution_count": 43,
   "metadata": {},
   "outputs": [
    {
     "data": {
      "image/png": "[encoded data removed]",
      "text/plain": [
       "<Figure size 864x432 with 1 Axes>"
      ]
     },
     "metadata": {
      "needs_background": "light"
     },
     "output_type": "display_data"
    }
   ],
   "source": [
    "plt.hist(small_hurst_rows.flatten(),bins=100) \n",
    "plt.title(\"histogram of params containing hurst vale below 0.80 -- poisoned data\")\n",
    "plt.xlabel(\"Params\")\n",
    "plt.ylabel(\"Counts\")\n",
    "plt.show()"
   ]
  },
  {
   "cell_type": "code",
   "execution_count": 44,
   "metadata": {},
   "outputs": [
    {
     "data": {
      "image/png": "[encoded data removed]",
      "text/plain": [
       "<Figure size 864x432 with 1 Axes>"
      ]
     },
     "metadata": {
      "needs_background": "light"
     },
     "output_type": "display_data"
    },
    {
     "name": "stdout",
     "output_type": "stream",
     "text": [
      "0.8866417\n",
      "0.8799493\n"
     ]
    }
   ],
   "source": [
    "axes = plt.gca()\n",
    "plt.plot(all_params[:,(432481,463474)]) \n",
    "plt.title(\"min and max variance comparison between weights -- poisoned data\")\n",
    "#plt.xlabel(\"Hurst Exponent\")\n",
    "#plt.ylabel(\"Log Counts\")\n",
    "axes.set_ylim([-4.0,4.0])\n",
    "#plt.legend()\n",
    "plt.show()\n",
    "print (np.mean(hurst_params[432481:]))\n",
    "print (np.mean(hurst_params[463474:]))"
   ]
  },
  {
   "cell_type": "code",
   "execution_count": null,
   "metadata": {},
   "outputs": [],
   "source": []
  }
 ],
 "metadata": {
  "hide_input": false,
  "kernelspec": {
   "display_name": "Python 3",
   "language": "python",
   "name": "python3"
  },
  "language_info": {
   "codemirror_mode": {
    "name": "ipython",
    "version": 3
   },
   "file_extension": ".py",
   "mimetype": "text/x-python",
   "name": "python",
   "nbconvert_exporter": "python",
   "pygments_lexer": "ipython3",
   "version": "3.7.3"
  },
  "toc": {
   "base_numbering": 1,
   "nav_menu": {},
   "number_sections": true,
   "sideBar": true,
   "skip_h1_title": false,
   "title_cell": "Table of Contents",
   "title_sidebar": "Contents",
   "toc_cell": false,
   "toc_position": {},
   "toc_section_display": true,
   "toc_window_display": true
  }
 },
 "nbformat": 4,
 "nbformat_minor": 2
}
